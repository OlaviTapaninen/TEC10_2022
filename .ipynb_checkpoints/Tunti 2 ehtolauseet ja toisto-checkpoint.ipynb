{
 "cells": [
  {
   "cell_type": "markdown",
   "metadata": {},
   "source": [
    "# 2 ehtolauseet ja toisto\n",
    "\n",
    "Luvun 2 tehtävissä tutkitaan toistoa laskemalla lukujonoihin liittyviä esimerkkejä. Ehtolauseita tutkitaan esimerkiksi tehtävässä 2.8, jossa sanallinen tehtävänanto."
   ]
  },
  {
   "cell_type": "markdown",
   "metadata": {},
   "source": [
    "## Ehtolauseet"
   ]
  },
  {
   "cell_type": "markdown",
   "metadata": {},
   "source": [
    "Ohjelman täytyy joskus suorittaa komentoja vain, jos jokin ehto täyttyy. Silloin käytetään if-rakennetta."
   ]
  },
  {
   "cell_type": "code",
   "execution_count": 1,
   "metadata": {},
   "outputs": [
    {
     "name": "stdout",
     "output_type": "stream",
     "text": [
      "Muuttujan x arvo if-ehdon sisällä : 12\n",
      "Muuttujan x arvo ohjelman lopussa: 24\n"
     ]
    }
   ],
   "source": [
    "# Testaa ohjelman tulostetta muuttamalla muuttujan x arvoa:\n",
    "x = 10\n",
    "\n",
    "# Tarkistetaan, onko muuttujan x arvo 10? Jos ehto toteutuu, niin suoritetaan sisennetty lohko\n",
    "if x == 10:\n",
    "    x = x + 2\n",
    "    print(\"Muuttujan x arvo if-ehdon sisällä :\", x)\n",
    "# muuttujan x arvoksi asetaan 2-kertaa suurempi arvo\n",
    "x = 2 * x\n",
    "print(\"Muuttujan x arvo ohjelman lopussa:\", x)"
   ]
  },
  {
   "cell_type": "markdown",
   "metadata": {},
   "source": [
    "Ylläolevan koodia koodia vastaa \"Jos x on yhtä suuri kuin kymmenen, lisää siihen kaksi ja tulosta x. Lopuksi joka tapauksessa kerro x kahdella.\"\n",
    "\n",
    "Pythonissa if-lauseen syntaksissa on sana `if`, sen jälkeen jokin ehto ja kaksoispiste. If-lauseen sisällä olevat komennot sisennetään neljällä välilyönnillä.\n",
    "\n",
    "If-lausetta voi jatkaa elif- ja else-rakenteilla. Else ei ota mitään ehtoa, vaan sen jälkeen tuleva koodi suoritetaan, jos if:n jälkeistä ei suoriteta."
   ]
  },
  {
   "cell_type": "code",
   "execution_count": 2,
   "metadata": {},
   "outputs": [
    {
     "name": "stdout",
     "output_type": "stream",
     "text": [
      "x on pienempi tai yhtä suuri kuin 10\n"
     ]
    }
   ],
   "source": [
    "x = 10\n",
    "if x > 10:\n",
    "    print(\"x on suurempi kuin 10\")\n",
    "else:\n",
    "    print(\"x on pienempi tai yhtä suuri kuin 10\")"
   ]
  },
  {
   "cell_type": "markdown",
   "metadata": {},
   "source": [
    "If-else-rakenne on siis joko-tai-rakenne. Aina jompi kumpi suoritetaan.\n",
    "\n",
    "Elif on lyhenne sanoista else if. Se toimii samalla if-else-rakenne, mutta sitä on helpompi ketjuttaa.\n"
   ]
  },
  {
   "cell_type": "code",
   "execution_count": 3,
   "metadata": {},
   "outputs": [
    {
     "name": "stdout",
     "output_type": "stream",
     "text": [
      "x on negatiivinen\n"
     ]
    }
   ],
   "source": [
    "x = -1\n",
    "\n",
    "if x > 10:\n",
    "    print(\"x on suurempi kuin kymmenen\")\n",
    "else:\n",
    "    if x < 0:\n",
    "        print(\"x on negatiivinen\")"
   ]
  },
  {
   "cell_type": "markdown",
   "metadata": {},
   "source": [
    "tarkoittaa samaa kuin"
   ]
  },
  {
   "cell_type": "code",
   "execution_count": 4,
   "metadata": {},
   "outputs": [
    {
     "name": "stdout",
     "output_type": "stream",
     "text": [
      "x on negatiivinen\n"
     ]
    }
   ],
   "source": [
    "if x > 10:\n",
    "    print(\"x on suurempi kuin kymmenen\")\n",
    "elif x < 0:\n",
    "    print(\"x on negatiivinen\")"
   ]
  },
  {
   "cell_type": "markdown",
   "metadata": {},
   "source": [
    "Esimerkki if-elif-else -ketjusta. Alla oleva ohjelma laskee pisteet-muuttujan arvosta yo-arvosanan."
   ]
  },
  {
   "cell_type": "code",
   "execution_count": 5,
   "metadata": {},
   "outputs": [
    {
     "name": "stdout",
     "output_type": "stream",
     "text": [
      "E\n"
     ]
    }
   ],
   "source": [
    "pisteet = 80\n",
    "\n",
    "if pisteet < 28:\n",
    "    print(\"I\")\n",
    "elif pisteet < 40:\n",
    "    print(\"A\")\n",
    "elif pisteet < 52:\n",
    "    print(\"B\")\n",
    "elif pisteet < 64:\n",
    "    print(\"C\")\n",
    "elif pisteet < 75:\n",
    "    print(\"M\")\n",
    "elif pisteet < 90:\n",
    "    print(\"E\")\n",
    "else:\n",
    "    print(\"L\")"
   ]
  },
  {
   "cell_type": "markdown",
   "metadata": {},
   "source": [
    "Yhdessä if-rakenteessa on oltava yksi if, niin monta elif:iä kuin tarvitaan ja korkeintaan yksi else. Jos elseä käytetään, sen täytyy olla aina viimeisenä. Esimerkiksi seuraava ohjelma ei ole sallittu:"
   ]
  },
  {
   "cell_type": "code",
   "execution_count": 7,
   "metadata": {},
   "outputs": [
    {
     "ename": "SyntaxError",
     "evalue": "invalid syntax (781671904.py, line 6)",
     "output_type": "error",
     "traceback": [
      "\u001b[0;36m  File \u001b[0;32m\"/var/folders/fw/_rn0vqpd5qqcdx33s5t8g45h0000gn/T/ipykernel_23935/781671904.py\"\u001b[0;36m, line \u001b[0;32m6\u001b[0m\n\u001b[0;31m    elif x < 0:\u001b[0m\n\u001b[0m    ^\u001b[0m\n\u001b[0;31mSyntaxError\u001b[0m\u001b[0;31m:\u001b[0m invalid syntax\n"
     ]
    }
   ],
   "source": [
    "x = 0\n",
    "if x == 0:\n",
    "    print(\"x on 0\")\n",
    "else:\n",
    "    print(\"x ei ole 0\")\n",
    "elif x < 0:\n",
    "    print(\"x on negatiivinen\")"
   ]
  },
  {
   "cell_type": "markdown",
   "metadata": {},
   "source": [
    "Yllä olevan esimerkin oikea rakenne:"
   ]
  },
  {
   "cell_type": "code",
   "execution_count": 8,
   "metadata": {},
   "outputs": [
    {
     "name": "stdout",
     "output_type": "stream",
     "text": [
      "x ei ole 0\n"
     ]
    }
   ],
   "source": [
    "x = 1\n",
    "if x == 0:\n",
    "    print(\"x on 0\")\n",
    "elif x < 0:\n",
    "    print(\"x on negatiivinen\")\n",
    "else:\n",
    "    print(\"x ei ole 0\")"
   ]
  },
  {
   "cell_type": "markdown",
   "metadata": {},
   "source": [
    " Tee ohjelma, joka kysyy käyttäjältä luvun ja kertoo onko luku pariton vai parillinen."
   ]
  },
  {
   "cell_type": "code",
   "execution_count": 9,
   "metadata": {},
   "outputs": [
    {
     "name": "stdout",
     "output_type": "stream",
     "text": [
      "Luku on pariton\n"
     ]
    }
   ],
   "source": [
    "# Kirjoita ohjelma tähän\n",
    "luku = 5\n",
    "# jaollisuus tutkitaan % operaattorilla. Se kertoo jakojäännöksen\n",
    "if luku % 2 == 0:\n",
    "    print(\"Luku on parillinen\")\n",
    "else:\n",
    "    print(\"Luku on pariton\")\n"
   ]
  },
  {
   "cell_type": "markdown",
   "metadata": {},
   "source": [
    "### Tehtävä 2.1\n",
    "Toteuta lipunmyyntiohjelma, joka ottaa syötteenä iän ja tulostaa lipun hinnan. Hinnasto: \n",
    "\n",
    "\n",
    "| Ikä        | Hinta |\n",
    "|------------|-------|\n",
    "| Alle 7     | 0€    |\n",
    "| 7-17       | 1.40€ |\n",
    "| 18-69      | 2.80€ |\n",
    "| 70 tai yli | 1.40€ |\n"
   ]
  },
  {
   "cell_type": "markdown",
   "metadata": {},
   "source": [
    "## Silmukat\n",
    "\n",
    "Silmukoilla voi toistaa komentoja. Pythonissa on kahdenlaisia silmukoita. For-silmukat ovat hyviä listan läpikäymiseen, mutta while-silmukat ovat usein parempia. Niitä käytetään, jos toistojen määrä ei ole tiedossa etukäteen.\n",
    "\n",
    "Silmukoiden jälkeen ohjelman suoritus jatkuu normaalisti rivi riviltä."
   ]
  },
  {
   "cell_type": "code",
   "execution_count": 11,
   "metadata": {},
   "outputs": [
    {
     "name": "stdout",
     "output_type": "stream",
     "text": [
      "Neliöjuuri luvusta 0 on 0.0\n",
      "Neliöjuuri luvusta 1 on 1.0\n",
      "Neliöjuuri luvusta 2 on 1.4142135623730951\n",
      "Neliöjuuri luvusta 3 on 1.7320508075688772\n",
      "Neliöjuuri luvusta 4 on 2.0\n",
      "Neliöjuuri luvusta 5 on 2.23606797749979\n"
     ]
    }
   ],
   "source": [
    "# tuodaan math-kirjaston funktiot käyttöön\n",
    "import math\n",
    "\n",
    "summa = 0\n",
    "\n",
    "for i in range(6):\n",
    "    # sqrt on neliöjuuri\n",
    "    print(\"Neliöjuuri luvusta\", i, \"on\", math.sqrt(i))"
   ]
  },
  {
   "cell_type": "markdown",
   "metadata": {},
   "source": [
    "Ylläolevassa esimerkissä `print(i)` ajettiin kymmenen kertaa.\n",
    "\n",
    "While-silmukka toimii melkein kuin if. Esimerkki:"
   ]
  },
  {
   "cell_type": "code",
   "execution_count": 12,
   "metadata": {},
   "outputs": [
    {
     "name": "stdout",
     "output_type": "stream",
     "text": [
      "1\n",
      "2\n",
      "4\n",
      "8\n",
      "16\n",
      "32\n",
      "64\n",
      "128\n",
      "256\n",
      "512\n",
      "1024\n",
      "2048\n",
      "4096\n",
      "8192\n",
      "16384\n",
      "32768\n",
      "65536\n"
     ]
    }
   ],
   "source": [
    "luku = 1\n",
    "\n",
    "while luku < 100000:\n",
    "    print(luku)\n",
    "    luku = luku * 2"
   ]
  },
  {
   "cell_type": "markdown",
   "metadata": {},
   "source": [
    "While-silmukassa runkoa eli silmukan sisällä olevaa koodia ajetaan niin kauan kun ehto on tosi."
   ]
  },
  {
   "cell_type": "markdown",
   "metadata": {},
   "source": [
    "## Tehtäviä:"
   ]
  },
  {
   "cell_type": "markdown",
   "metadata": {},
   "source": [
    "### Tehtävä 2.2\n",
    "Aritmeettinen lukujono alkaa 5, 8, 11... \n",
    "\n",
    "a) Luettele lukujonon 30 ensimmäistä jäsentä."
   ]
  },
  {
   "cell_type": "code",
   "execution_count": null,
   "metadata": {},
   "outputs": [],
   "source": []
  },
  {
   "cell_type": "markdown",
   "metadata": {},
   "source": [
    "b) Mikä on sadan ensimmäisen jäsenen summa?"
   ]
  },
  {
   "cell_type": "code",
   "execution_count": null,
   "metadata": {},
   "outputs": [],
   "source": []
  },
  {
   "cell_type": "markdown",
   "metadata": {},
   "source": [
    "c) Kuinka moni jonon jäsenistä on pienempi kuin 500?"
   ]
  },
  {
   "cell_type": "code",
   "execution_count": null,
   "metadata": {},
   "outputs": [],
   "source": []
  },
  {
   "cell_type": "markdown",
   "metadata": {},
   "source": [
    "### Tehtävä 2.3\n",
    "Luettele kaikki luvut väliltä 1 - 50, mutta jos luku on jaollinen viidellä, tulosta luvun sijaan \"foo\". Jos luku on jaollinen seitsemällä, tulosta luvun sijaan \"bar\". Jos luku on jaollinen sekä viidellä että seitsemällä tulosta \"foobar\"."
   ]
  },
  {
   "cell_type": "code",
   "execution_count": null,
   "metadata": {},
   "outputs": [],
   "source": []
  },
  {
   "cell_type": "markdown",
   "metadata": {},
   "source": [
    "### Tehtävä 2.4\n",
    "Laske kaikkien nelinumeroisten seitsemällä jaollisten lukujen summa."
   ]
  },
  {
   "cell_type": "code",
   "execution_count": null,
   "metadata": {},
   "outputs": [],
   "source": []
  },
  {
   "cell_type": "markdown",
   "metadata": {},
   "source": [
    "Tehtävän voi ratkaista myös seuraavasti"
   ]
  },
  {
   "cell_type": "code",
   "execution_count": null,
   "metadata": {},
   "outputs": [],
   "source": []
  },
  {
   "cell_type": "markdown",
   "metadata": {},
   "source": [
    "### Tehtävä 2.5\n",
    "Tutki, kuinka monta geometrisen lukujonon 3, 9, 27, 81, ... jäsentä on laskettava yhteen, että summan arvo ylittää 9999?"
   ]
  },
  {
   "cell_type": "code",
   "execution_count": null,
   "metadata": {},
   "outputs": [],
   "source": []
  },
  {
   "cell_type": "markdown",
   "metadata": {},
   "source": [
    "### Tehtävä 2.6\n",
    "Ohjelma kysyy käyttäjältä suorakulmion leveyden ja korkeuden. Tämän jälkeen ohjelma kysyy haluatko laskea p=piirin  vai a=pinta-alan ? Tämän jälkeen ohjelma tulostaa tiedon näytölle."
   ]
  },
  {
   "cell_type": "code",
   "execution_count": null,
   "metadata": {},
   "outputs": [],
   "source": []
  },
  {
   "cell_type": "markdown",
   "metadata": {},
   "source": [
    "### Tehtävä 2.7\n",
    "Kunnan väkiluku kasvoi 1.2%ia vuodessa. Vuonna 2015 kunnassa oli 24500 asukasta. Tutki minä vuonna kunnan asukasluku ylittää 30 000 asukkaan rajan."
   ]
  },
  {
   "cell_type": "code",
   "execution_count": null,
   "metadata": {},
   "outputs": [],
   "source": []
  },
  {
   "cell_type": "markdown",
   "metadata": {},
   "source": [
    "### Tehtävä 2.8\n",
    "Kännykkäliittymän A kuukausimaksu on  4 euroa ja puhelumaksu on 0.09 euroa/min. Liittymässä B ei ole kuukausimaksua, mutta  puhelumaksu on 0.12 euroa/min.  Tee ohjelma, joka kysyy käyttäjältä kuukauden puheaikaa, ja ilmoittaa käyttäjälle kumpi liittymä A vai B kannattaa valita ja mitä kuukauden puhelut maksavat. "
   ]
  },
  {
   "cell_type": "code",
   "execution_count": null,
   "metadata": {},
   "outputs": [],
   "source": []
  },
  {
   "cell_type": "markdown",
   "metadata": {},
   "source": [
    "### Tehtävä 2.9\n",
    "Tarkastellaan lukujonoa $a_n =15n + 120, n=1, 2,3\\dots$  Kirjoita ohjelma, joka vastaa seuraaviin kysymyksiin:\n",
    "\n",
    "a) Ohjelma tulostaa jonon 10 ensimmäistä jäsentä.\n"
   ]
  },
  {
   "cell_type": "code",
   "execution_count": null,
   "metadata": {},
   "outputs": [],
   "source": []
  },
  {
   "cell_type": "markdown",
   "metadata": {},
   "source": [
    "b) Onko luku  12 455 lukujonon jäsen?\n"
   ]
  },
  {
   "cell_type": "code",
   "execution_count": null,
   "metadata": {},
   "outputs": [],
   "source": []
  },
  {
   "cell_type": "markdown",
   "metadata": {},
   "source": [
    "c)  Mistä jäsenestä alkaen lukujonon jäsenet ovat suurempia kuin  1000?"
   ]
  },
  {
   "cell_type": "code",
   "execution_count": null,
   "metadata": {},
   "outputs": [],
   "source": []
  },
  {
   "cell_type": "markdown",
   "metadata": {},
   "source": [
    "### Tehtäviä 2.10\n",
    "\n",
    "Jaa luku 29282 alkutekijöihin"
   ]
  },
  {
   "cell_type": "code",
   "execution_count": null,
   "metadata": {},
   "outputs": [],
   "source": []
  },
  {
   "cell_type": "markdown",
   "metadata": {},
   "source": [
    "## Tehtävä 2.11\n",
    "\n",
    "Vuosi on karkausvuosi, jos se on jaollinen 4:llä. Kuitenkin jos vuosi on jaollinen 100:lla, se on karkausvuosi vain silloin, kun se on myös jaollinen 400:lla.\n",
    "Tee ohjelma, joka tulostaa kaikki karkausvuodet välillä 1800...2200, jokainen vuosi omalla rivillään.\n",
    "\n",
    "Tuloste alkaa siis seuraavasti:\n",
    "\n",
    "1808\n",
    "1812\n",
    "1816\n",
    "1820\n",
    "1824\n",
    "1828\n",
    "1832\n",
    "1836\n",
    "1840\n",
    "1844\n",
    "1848\n",
    "1852\n",
    "1856\n",
    "1860\n",
    "1864\n",
    "1868\n",
    "1872\n",
    "1876"
   ]
  },
  {
   "cell_type": "code",
   "execution_count": null,
   "metadata": {},
   "outputs": [],
   "source": []
  },
  {
   "cell_type": "markdown",
   "metadata": {},
   "source": [
    "## Tehtävä 2.12\n",
    "\n",
    "Kalle on vuoden vanhempi kuin Jaakko, joka taas on vuoden vanhempi kuin Aapo. Heidän ikiensä tulo on 42840. Kuinka vanha Aapo on?"
   ]
  },
  {
   "cell_type": "code",
   "execution_count": null,
   "metadata": {},
   "outputs": [],
   "source": []
  },
  {
   "cell_type": "markdown",
   "metadata": {},
   "source": [
    "## Tehtävä 2.13\n",
    "\n",
    "Etsi kokonaisluku x, joka ratkaisee yhtälön $x^3 - 60x^2 + 60x = 59$.\n"
   ]
  },
  {
   "cell_type": "code",
   "execution_count": null,
   "metadata": {},
   "outputs": [],
   "source": []
  },
  {
   "cell_type": "markdown",
   "metadata": {},
   "source": [
    "## Tehtävä 2.14\n",
    "\n",
    "Mikä on pienin positiivinen kokonaisluku, joka on jaollinen luvuilla 12, 34 ja 56?"
   ]
  },
  {
   "cell_type": "code",
   "execution_count": null,
   "metadata": {},
   "outputs": [],
   "source": []
  },
  {
   "cell_type": "markdown",
   "metadata": {},
   "source": [
    "### Tehtävä 2.15\n",
    "Tutki laskimen avulla kuinka monta geometrisen jonon $3, 9, 27, 81 ...$ jäseniä on laskettava yhteen, että summa ylittää arvon $9999$."
   ]
  },
  {
   "cell_type": "code",
   "execution_count": null,
   "metadata": {},
   "outputs": [],
   "source": []
  },
  {
   "cell_type": "markdown",
   "metadata": {},
   "source": [
    "### Tehtävä 2.15\n",
    "Yo-tehtävä: Kahden positiivisen luvun $a$ ja $b$ geometrinen on $\\sqrt{ab}$.\n",
    "\n",
    "a) Anna esimerkki välin $2-100$ kahdesta luvusta, joille $\\sqrt{ab}$ on kokonaisluku.\n",
    "\n",
    "b) Satunnaislukugeneraattori arvoo toisistaan riippumatta kaksi lukua väliltä 1-100 niin, että jokaisen luvun todennäköisyys on $\\frac{1}{100}$. Mikä on todennäköisyys, että arvottujen lukujen geometrinen keskiarvo on kokonaisluku? Voit esittää simulointiin perustuvan ratkaisun."
   ]
  },
  {
   "cell_type": "code",
   "execution_count": null,
   "metadata": {},
   "outputs": [],
   "source": []
  }
 ],
 "metadata": {
  "kernelspec": {
   "display_name": "Python 3 (ipykernel)",
   "language": "python",
   "name": "python3"
  },
  "language_info": {
   "codemirror_mode": {
    "name": "ipython",
    "version": 3
   },
   "file_extension": ".py",
   "mimetype": "text/x-python",
   "name": "python",
   "nbconvert_exporter": "python",
   "pygments_lexer": "ipython3",
   "version": "3.10.0"
  }
 },
 "nbformat": 4,
 "nbformat_minor": 4
}
