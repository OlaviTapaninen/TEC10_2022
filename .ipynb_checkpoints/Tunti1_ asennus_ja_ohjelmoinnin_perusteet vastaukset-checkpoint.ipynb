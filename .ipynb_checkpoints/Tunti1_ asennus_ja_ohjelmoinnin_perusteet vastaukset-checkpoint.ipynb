{
 "cells": [
  {
   "cell_type": "markdown",
   "metadata": {},
   "source": [
    "# Lukion matemattiikkaa ja fysiikkaa ohjelmoimalla\n",
    "\n",
    "## Ohje Jupyter-notebookin asentamiseen ja suorittamiseen\n",
    "\n",
    "Alla on koodilohkoja, joita voit suorittaa artikkelia lukiessasi. Koodilohkon voit suorittaa painamalla yläpaneelista klikkaamalla \"run\" tai paina ctrl+enter, jolloin aktiivinen solu suoritetaan.\n",
    "\n",
    "![run](images/run.png)\n",
    "\n",
    "Testaa myös mitä muista yläpaneelin pikanäppäimistä tapahtuu.\n",
    "\n",
    "Asennusohje:\n",
    "1. Asenna <a href=\"https://www.anaconda.com\" target =\"_blank\"> Anaconda python</a>\n",
    "\n",
    "2. Avaa Anacondan terminaali ja kopoi repositorio:\n",
    "\n",
    "\n",
    "<a href=\"https://github.com/otaniemenlukio/TEC10_2022\" target =\"_blank\"> https://github.com/otaniemenlukio/TEC10_2022</a>\n",
    "\n",
    "3. Kirjoita terminaalin eli komentorivillä komento:  `git clone https://github.com/otaniemenlukio/TEC10_2022` ja paina `enter`\n",
    "\n",
    "4. Avaa selaimessa tiedosto (Jupyter notebook): \"Tunti_ asennus_ja_ohjelmoinnin_perusteet.ipynb\"\n",
    "\n",
    "5. Tee aina tehtävätiedostosta eriniminen kopio ja tee vastauksesi erilliseen vastaustiedostoon. Tämä harjoitellaan ensimmäisellä tunnilla.\n",
    "\n",
    "6.Komennolla `git pull` haet githubista opettajan päivitykset\n",
    "\n",
    "[hesari](www.hs.fi)\n"
   ]
  },
  {
   "cell_type": "markdown",
   "metadata": {},
   "source": [
    "## Tämä on otsikko\n",
    "Tähän tulee tekstiä, jossa on matikan symboli $\\alpha$.\n",
    "\n",
    "$$\n",
    "\\alpha^2+\\beta^2=1\n",
    "$$"
   ]
  },
  {
   "cell_type": "markdown",
   "metadata": {},
   "source": [
    "## Harjoitus 1: Tämä on Markdown solu\n",
    "Tähän soluun lisätään vastaukset ja esim. L'Mathilla editoidut matikan kaavat latexina.\n",
    "\n",
    "Lisää kaavava $\\frac{a}{b}$ alle: \n",
    "\n",
    "\n",
    "$$\n",
    "\\frac{a}{b}\n",
    "$$\n",
    "\n"
   ]
  },
  {
   "cell_type": "code",
   "execution_count": 2,
   "metadata": {},
   "outputs": [
    {
     "name": "stdout",
     "output_type": "stream",
     "text": [
      "Terve terve:  Liisa 5\n"
     ]
    }
   ],
   "source": [
    "# Tämä on koodisolu, suorita esim. ctr+enter\n",
    "print(\"Terve terve: \",\"Liisa\", 2+3)"
   ]
  },
  {
   "cell_type": "code",
   "execution_count": null,
   "metadata": {
    "scrolled": false
   },
   "outputs": [],
   "source": [
    "# Tämä on kommentti\n",
    "\n",
    "x = 0\n",
    "while True:\n",
    "    print(x)\n",
    "    x = x + 1 "
   ]
  },
  {
   "cell_type": "code",
   "execution_count": 3,
   "metadata": {},
   "outputs": [
    {
     "data": {
      "text/plain": [
       "49"
      ]
     },
     "execution_count": 3,
     "metadata": {},
     "output_type": "execute_result"
    }
   ],
   "source": [
    "7**2"
   ]
  },
  {
   "cell_type": "markdown",
   "metadata": {},
   "source": [
    "## Tämä otsikko\n",
    "\n",
    "lisätään kaava: $\\sin\\left(\\alpha\\right)$\n",
    "\n",
    "\n",
    "$$\n",
    "\\frac{x^2}{\\sqrt{x}}\n",
    "$$"
   ]
  },
  {
   "cell_type": "markdown",
   "metadata": {},
   "source": [
    "# Lukion matematiikkaa ja fysiikkaa ohjelmoimalla\n",
    "\n",
    "## Johdanto\n",
    "\n",
    "- Luvuissa 1 -5 on esitetty lukion pitkän matematiikan tehtävien ratkaisussa tarvittavat python-ohjelmoinnin rakenteet. Lukujen 1 - 5 aineistossa on valmiiksi ohjelmoituja esimerkkilaskuja. \n",
    "- Luvussa 6 on lisää valmiiksi ohjelmituja laskuesimerkkejä.\n",
    "- Tehtävät on valittu pääosin lukion kurssin MAA11 (OPS2019) sisällöistä.\n",
    "- Materiaali on tarkoitettu itseopiskeluun ja ohjelmointitaitojen ylläpitoon ja kertaukseen.\n",
    "- Lue teoria ja ohjelmaesimerkit sekä koodin keskellä olevat kommentit \n",
    "- Tämän materiaalin esimerkit on kirjoitettu Jupyterillä, mutta tehtäviä voi tehdä millä tahansa ohjelmointiympäristöllä. \n",
    "\n",
    "## 1 Python-ohjelmoinnin perusteet\n",
    "- tulostaminen print-komennolla ja ilman print-komentoa Jupyter Notebookissa.\n",
    "- muuttujat, muuttujien tyypit ja muunnokset tyyppien välillä.\n",
    "- peruslaskutoimitukset\n",
    "\n",
    "\n"
   ]
  },
  {
   "cell_type": "markdown",
   "metadata": {},
   "source": [
    "### Tulostaminen"
   ]
  },
  {
   "cell_type": "code",
   "execution_count": 10,
   "metadata": {},
   "outputs": [
    {
     "name": "stdout",
     "output_type": "stream",
     "text": [
      "Lukujen summa on:  20\n"
     ]
    }
   ],
   "source": [
    "# Tämä rivi on kommentti. Ohjelmointi alkaa tästä, kirjoita koodi alle.\n",
    "print(\"Lukujen summa on: \", 10 + 10)"
   ]
  },
  {
   "cell_type": "code",
   "execution_count": 4,
   "metadata": {},
   "outputs": [
    {
     "data": {
      "text/plain": [
       "8.0"
      ]
     },
     "execution_count": 4,
     "metadata": {},
     "output_type": "execute_result"
    }
   ],
   "source": [
    "(10+10) /2.5"
   ]
  },
  {
   "cell_type": "markdown",
   "metadata": {},
   "source": [
    "### Muuttujat\n",
    "\n",
    "Muuttujat on ohjelmointikielissä tapa tallentaa tietoa tietokoneen muistiin. Jokaisella muuttujalla on pythonissa nimi, tyyppi ja arvo. Pythonissa ei voi määrittää muuttujan tyyppiä suoraan, vaan se tapahtuu antamalla sille tietyn tyyppinen arvo.\n",
    "\n",
    "Pythonissa on 4 alkeellista tietotyyppiä:\n",
    "1. **int**eger\n",
    "Kokonaisluku\n",
    "2. **float**\n",
    "Liukuluku eli desimaaliluku\n",
    "3. **str**ing\n",
    "Merkkijono\n",
    "4. **bool**ean\n",
    "Totuusarvo. Ainoat mahdolliset arvot ovat `True` ja `False`.\n",
    "Minkä tahansa nollasta poikkeavan luvun voi muuntaa `True`:ksi ja nollan `False`ksi.\n",
    "Tyhjä merkkijono `\"\"` muuntuu myös `False`:ksi.\n",
    "\n",
    "Muut tyypit on yleensä määritelty näillä neljällä alkeellisella tyypillä.\n",
    "\n",
    "Tyyppien lyhenteet on tummennettu.\n",
    "Lyhenteiden nimiset funktiot ottavat parametrikseen arvon ja yrittävät palauttaa funktiota vastaavan arvon ja tyypin.\n",
    "\n",
    "\n"
   ]
  },
  {
   "cell_type": "code",
   "execution_count": 6,
   "metadata": {},
   "outputs": [],
   "source": [
    "x = 2\n",
    "y = 2.5\n",
    "nimi = \"Liisa\"\n",
    "z = x + y"
   ]
  },
  {
   "cell_type": "code",
   "execution_count": 7,
   "metadata": {},
   "outputs": [
    {
     "name": "stdout",
     "output_type": "stream",
     "text": [
      "4.5\n",
      "Liisa\n"
     ]
    }
   ],
   "source": [
    "print(z)\n",
    "print(nimi)"
   ]
  },
  {
   "cell_type": "code",
   "execution_count": 10,
   "metadata": {},
   "outputs": [
    {
     "name": "stdout",
     "output_type": "stream",
     "text": [
      "12\n",
      "102\n"
     ]
    }
   ],
   "source": [
    "luku1 = \"10\"\n",
    "luku2 =\"2\"\n",
    "lukujen_summa = luku1 + luku2\n",
    "print(int(luku1) + int(luku2))\n",
    "print(lukujen_summa)"
   ]
  },
  {
   "cell_type": "code",
   "execution_count": 20,
   "metadata": {},
   "outputs": [
    {
     "name": "stdout",
     "output_type": "stream",
     "text": [
      "True\n"
     ]
    }
   ],
   "source": [
    "onko_tunti_loppu = False\n",
    "onko_tunti_loppu = not onko_tunti_loppu\n",
    "print(onko_tunti_loppu)"
   ]
  },
  {
   "cell_type": "markdown",
   "metadata": {},
   "source": [
    "### Lisää muuttujista\n",
    "\n",
    "Muuttujan nimi voi olla melkein mikä tahansa merkki- tai kirjainyhdistelmä, mutta ota huomioon seuraavat asiat:\n",
    "\n",
    "1. Nimi ei saa alkaa numerolla\n",
    "2. Nimessä ei saa olla välilyöntejä\n",
    "3. Ainoa erikoismerkki, jota saa käyttää nimissä, on alaviiva `_`\n",
    "4. Kirjainkoolla on väliä. `Kameli` ja `kameli` ovat eri muuttujia\n",
    "5. Yritä tehdä muuttujien nimistä järkeviä ja käyttöä vastaavia.\n",
    "Esimerkiksi `username` on paljon järkevämpi nimi muuttujalle kuin `asdf`\n",
    "\n",
    "\n",
    "Muuttujan voi luoda käyttämällä merkintää `muuttuja = \"arvo\"`, jossa yhtäsuuruusmerkin vasemmalla puolella on muuttujan nimi ja oikealla siihen tallennettava arvo. Esimerkiksi allaoleva ohjelma tulostaa `Hello world!`:"
   ]
  },
  {
   "cell_type": "code",
   "execution_count": 17,
   "metadata": {},
   "outputs": [
    {
     "name": "stdout",
     "output_type": "stream",
     "text": [
      "105\n"
     ]
    }
   ],
   "source": [
    "luku = \"100\"\n",
    "print(int(luku)+5)"
   ]
  },
  {
   "cell_type": "code",
   "execution_count": null,
   "metadata": {},
   "outputs": [],
   "source": [
    "eka = \"Hello\"\n",
    "toka = \"world!\"\n",
    "\n",
    "\n",
    "print(eka,toka)"
   ]
  },
  {
   "cell_type": "markdown",
   "metadata": {},
   "source": [
    "### Operaattorit ja vertailu\n",
    "\n",
    "Pythonissa voidaan käyttää matemaattisia operaattoreita lukujen käsittelyyn. "
   ]
  },
  {
   "cell_type": "markdown",
   "metadata": {},
   "source": [
    "Esimerkkejä peruslaskutoimituksista"
   ]
  },
  {
   "cell_type": "code",
   "execution_count": 5,
   "metadata": {},
   "outputs": [
    {
     "name": "stdout",
     "output_type": "stream",
     "text": [
      "6\n",
      "-3\n",
      "1.5\n",
      "14\n",
      "8\n"
     ]
    }
   ],
   "source": [
    "# Kirjoita esimerkkejä tähän\n",
    "print(3 + 3)\n",
    "print(2 - 5)\n",
    "print(6 / 4)\n",
    "print(2 * 7)\n",
    "# Potenssi\n",
    "print(2**3)\n"
   ]
  },
  {
   "cell_type": "markdown",
   "metadata": {},
   "source": [
    "Jos int ja float ovat samassa laskussa, tulos on tyyppiä float"
   ]
  },
  {
   "cell_type": "code",
   "execution_count": 12,
   "metadata": {},
   "outputs": [
    {
     "data": {
      "text/plain": [
       "10.2"
      ]
     },
     "execution_count": 12,
     "metadata": {},
     "output_type": "execute_result"
    }
   ],
   "source": [
    "10 + 0.2"
   ]
  },
  {
   "cell_type": "markdown",
   "metadata": {},
   "source": [
    "Normaali jakolasku: antaa luvun aina float-muodossa"
   ]
  },
  {
   "cell_type": "code",
   "execution_count": 11,
   "metadata": {},
   "outputs": [
    {
     "data": {
      "text/plain": [
       "2.0"
      ]
     },
     "execution_count": 11,
     "metadata": {},
     "output_type": "execute_result"
    }
   ],
   "source": [
    "10/5"
   ]
  },
  {
   "cell_type": "markdown",
   "metadata": {},
   "source": [
    "Alaspäin pyöristävä jakolasku: antaa luvun aina int-muodossa"
   ]
  },
  {
   "cell_type": "code",
   "execution_count": 13,
   "metadata": {},
   "outputs": [
    {
     "data": {
      "text/plain": [
       "3"
      ]
     },
     "execution_count": 13,
     "metadata": {},
     "output_type": "execute_result"
    }
   ],
   "source": [
    "# kommentti kokonaisjako\n",
    "16//5"
   ]
  },
  {
   "cell_type": "markdown",
   "metadata": {},
   "source": [
    "Potenssi\n",
    "\n",
    "$$\n",
    "\\sqrt[n]{a}\\ =a^{^{\\frac{1}{n}}}\n",
    "$$"
   ]
  },
  {
   "cell_type": "code",
   "execution_count": 14,
   "metadata": {},
   "outputs": [
    {
     "data": {
      "text/plain": [
       "10.0"
      ]
     },
     "execution_count": 14,
     "metadata": {},
     "output_type": "execute_result"
    }
   ],
   "source": [
    "# Neliöjuuri\n",
    "100**0.5"
   ]
  },
  {
   "cell_type": "code",
   "execution_count": 22,
   "metadata": {},
   "outputs": [
    {
     "data": {
      "text/plain": [
       "8"
      ]
     },
     "execution_count": 22,
     "metadata": {},
     "output_type": "execute_result"
    }
   ],
   "source": [
    "2**3"
   ]
  },
  {
   "cell_type": "markdown",
   "metadata": {},
   "source": [
    "Jakojäännös"
   ]
  },
  {
   "cell_type": "code",
   "execution_count": 16,
   "metadata": {},
   "outputs": [
    {
     "data": {
      "text/plain": [
       "1"
      ]
     },
     "execution_count": 16,
     "metadata": {},
     "output_type": "execute_result"
    }
   ],
   "source": [
    "13 % 2"
   ]
  },
  {
   "cell_type": "markdown",
   "metadata": {},
   "source": [
    "\n",
    "Laskujärjestystä voi tarvittaessa muuttaa suluilla: `(4+10)*4` on 56.\n",
    "\n",
    "Usein on tarpeellista muuttaa muuttujan arvoa, esimerkiksi lisäämällä siihen jotain:\n",
    "\n"
   ]
  },
  {
   "cell_type": "code",
   "execution_count": null,
   "metadata": {},
   "outputs": [],
   "source": [
    "(3 + 4)*2"
   ]
  },
  {
   "cell_type": "code",
   "execution_count": 17,
   "metadata": {},
   "outputs": [
    {
     "name": "stdout",
     "output_type": "stream",
     "text": [
      "3.141592653589793\n"
     ]
    }
   ],
   "source": [
    "import math\n",
    "print(math.pi)"
   ]
  },
  {
   "cell_type": "code",
   "execution_count": 18,
   "metadata": {},
   "outputs": [
    {
     "data": {
      "text/plain": [
       "10.0"
      ]
     },
     "execution_count": 18,
     "metadata": {},
     "output_type": "execute_result"
    }
   ],
   "source": [
    "math.sqrt(100)"
   ]
  },
  {
   "cell_type": "code",
   "execution_count": 19,
   "metadata": {},
   "outputs": [
    {
     "name": "stdout",
     "output_type": "stream",
     "text": [
      "Luvun 144 neliöjuuri: 12.0\n"
     ]
    }
   ],
   "source": [
    "# Neliöjuuri\n",
    "print('Luvun 144 neliöjuuri:', math.sqrt(144))"
   ]
  },
  {
   "cell_type": "markdown",
   "metadata": {},
   "source": [
    "Matikkaa ja trigonometriaa\n",
    "\n",
    "$$\n",
    "\\sin\\left(x\\right)=0.6\n",
    "$$\n",
    "\n",
    "Muuntosuhde :  $pi\\ rad\\ =\\ 180\\ °$"
   ]
  },
  {
   "cell_type": "code",
   "execution_count": 20,
   "metadata": {},
   "outputs": [
    {
     "name": "stdout",
     "output_type": "stream",
     "text": [
      "x= 36.86989764584402\n"
     ]
    }
   ],
   "source": [
    "# tulostetaan yhtälön sin(x)= 0.6 ratkaisu eli x=arcsin(0.6)\n",
    "print('x=',math.asin(0.6)*180/math.pi)\n",
    "# käänteisfunktiot ovat muotoa: atan(x), asin(x) ja acos(x)\n"
   ]
  },
  {
   "cell_type": "code",
   "execution_count": 26,
   "metadata": {},
   "outputs": [
    {
     "name": "stdout",
     "output_type": "stream",
     "text": [
      "3.141592653589793\n",
      "2.718281828459045\n",
      "Luvun 144 neliöjuuri: 12.0\n",
      "1.0\n",
      "x= 36.86989764584402\n",
      "0.7071067811865476\n"
     ]
    }
   ],
   "source": [
    "# Matematiikan vakioita ja funktioita\n",
    "# Tuodaan kirjasto käyttöön\n",
    "import math\n",
    "print(math.pi)\n",
    "\n",
    "# Neperin luku\n",
    "print(math.e)\n",
    "\n",
    "# Neliöjuuri\n",
    "print('Luvun 144 neliöjuuri:', math.sqrt(144))\n",
    "\n",
    "# trigonometriset funktiot on määritelty radiaaneissa\n",
    "print(math.sin(math.pi/2))\n",
    "\n",
    "# tulostetaan yhtälön sin(x)= 0.6 ratkaisu eli x=arcsin(0.6)\n",
    "print('x=',math.asin(0.6)*180/math.pi)\n",
    "# käänteisfunktiot ovat muotoa: atan(x), asin(x) ja acos(x)\n",
    "\n",
    "# Määritellään kulma asteina ja muutetaan se radiaaneiksi ja lasketaan kulman kosini\n",
    "angle_degrees = 45\n",
    "angle_radians = 45*math.pi/180\n",
    "print(math.cos(angle_radians))\n"
   ]
  },
  {
   "cell_type": "code",
   "execution_count": null,
   "metadata": {},
   "outputs": [],
   "source": []
  },
  {
   "cell_type": "code",
   "execution_count": null,
   "metadata": {},
   "outputs": [],
   "source": [
    "x"
   ]
  },
  {
   "cell_type": "markdown",
   "metadata": {},
   "source": [
    "### Tehtävä 1.1\n",
    "\n",
    "Tee ohjelma, jossa määritellään kolme muuttujaa, joiden arvot ovat lukuja. Ohjelma laskee ja tulostaa lukujen summan ja keskiarvon.\n"
   ]
  },
  {
   "cell_type": "code",
   "execution_count": 22,
   "metadata": {},
   "outputs": [
    {
     "name": "stdout",
     "output_type": "stream",
     "text": [
      "6\n",
      "2.0\n"
     ]
    }
   ],
   "source": [
    "muuttuja_1 = 1\n",
    "muuttuja_2 = 2\n",
    "muuttuja_3 = 3\n",
    "\n",
    "summa = muuttuja_1 + muuttuja_2 + muuttuja_3\n",
    "\n",
    "print(summa)\n",
    "\n",
    "keskiarvo = summa/3\n",
    "\n",
    "print(keskiarvo)"
   ]
  },
  {
   "cell_type": "markdown",
   "metadata": {},
   "source": [
    "### Tehtävä 1.2\n",
    "Tee ohjelma, jossa määritellään pallon säde, ja ohjelma tulostaa pallon tilavuuden ja pinta-alan. Pallon pinta-ala ja tilavuus lasketaan kaavoilla\n",
    "\n",
    "$$\n",
    "A=4\\pi\\cdot r^2 \\ \\text{ja} \\ V=\\frac{4}{3}\\pi r^3 \n",
    "$$"
   ]
  },
  {
   "cell_type": "code",
   "execution_count": 23,
   "metadata": {},
   "outputs": [
    {
     "name": "stdout",
     "output_type": "stream",
     "text": [
      "Pinta-ala: 50.26548245743669\n",
      "Tilavuus: 33.510321638291124\n"
     ]
    }
   ],
   "source": [
    "import math\n",
    "\n",
    "r = 2.0\n",
    "\n",
    "# Pinta-ala A\n",
    "A = 4 * math.pi * r ** 2\n",
    "\n",
    "# Pallon tilavuus\n",
    "V = 4/3 * math.pi * r**3\n",
    "\n",
    "print(\"Pinta-ala:\", A)\n",
    "print(\"Tilavuus:\", V)"
   ]
  },
  {
   "cell_type": "markdown",
   "metadata": {},
   "source": [
    "## Tehtävä 1.3\n",
    "Tee ohjelma, joka laskee tunnetusta pallon pinta-alasta pallon säteen ja pallon tilavuuden."
   ]
  },
  {
   "cell_type": "markdown",
   "metadata": {},
   "source": [
    "Pallon säde $r$ lasketaan kaavasta:\n",
    "\n",
    "$$'r\\ =\\sqrt{\\frac{A}{4\\pi}}$$"
   ]
  },
  {
   "cell_type": "code",
   "execution_count": 25,
   "metadata": {},
   "outputs": [
    {
     "name": "stdout",
     "output_type": "stream",
     "text": [
      "Pallon säde r on : 2.8209479177387813\n",
      "Pallon tilavuus:  94.03159725795935\n"
     ]
    }
   ],
   "source": [
    "import math\n",
    "\n",
    "A = 100 \n",
    "\n",
    "r = math.sqrt(A / (4*math.pi) )\n",
    "\n",
    "print(\"Pallon säde r on :\", r)\n",
    "\n",
    "# Tilavuus V\n",
    "V = 4/3*math.pi*r**3\n",
    "\n",
    "print('Pallon tilavuus: ', V)"
   ]
  },
  {
   "cell_type": "markdown",
   "metadata": {},
   "source": [
    "### Tehtävä 1.4\n",
    "Suorakulmion sivujen pituus on 50 cm ja 30 cm. Tee ohjelma, joka tulostaa suorakulmion piirin ja pinta-alan."
   ]
  },
  {
   "cell_type": "code",
   "execution_count": 27,
   "metadata": {},
   "outputs": [
    {
     "name": "stdout",
     "output_type": "stream",
     "text": [
      "suorakulmion pinta-ala on 1500 cm^2\n",
      "piiri:  160 cm\n"
     ]
    }
   ],
   "source": [
    "# Kirjoita koodi tähän\n",
    "kanta = 50\n",
    "korkeus = 30\n",
    "\n",
    "A = kanta*korkeus\n",
    "p =2*kanta + 2*korkeus\n",
    "\n",
    "print(\"suorakulmion pinta-ala on\", A, \"cm^2\")\n",
    "print(\"piiri: \",p , \"cm\")"
   ]
  },
  {
   "cell_type": "markdown",
   "metadata": {},
   "source": [
    "### Tehtävä 1.5\n",
    "Kuution tilavuus on 500 litraa. Mikä on tahkojen yhteispinta-ala? $V=a^3$, eli\n",
    "$a = \\sqrt[3]{V}$= $V^{1/3}$"
   ]
  },
  {
   "cell_type": "code",
   "execution_count": null,
   "metadata": {},
   "outputs": [],
   "source": [
    "# Tuodaan kirjasto käyttöön\n",
    "import math\n",
    "\n",
    "V = 500 # yksikkö on l eli dm^3\n",
    "\n",
    "# Lasketaan kuution sivun pituus a\n",
    "a = V ** (1/3)\n",
    "print(\"Sivun pituus:\", a)\n",
    "# Lasketaan pinta-ala\n",
    "A = 6 * a ** 2\n",
    "print(\"Tahkojen pinta-ala\", A)"
   ]
  },
  {
   "cell_type": "markdown",
   "metadata": {},
   "source": [
    "### Tehtävä 1.6\n",
    "Puhelinliittymän A kuukausimaksu on 6 euroa ja minuuttitaksa 0.15 eur/min. Tee ohjelma, jonka avulla voi tutkia\n",
    "puhelinlaskua erilaisilla puheajoilla. Puhelinliittymän B kiinteä kuukausimaksu on 15 euroa. Etsi kokeilemalla eli haarukoi kuinka paljon pitää puhua, että liittymä B tulee halvemmaksi?"
   ]
  },
  {
   "cell_type": "code",
   "execution_count": null,
   "metadata": {},
   "outputs": [],
   "source": [
    "# Kirjoita vastaus tähän\n",
    "# Syötä aika minuutteina, voit vaihtaa muuttujan t arvoa\n",
    "time = 60\n",
    "value = 6 + 0.15 * time\n",
    "print(\"Kun on puhuttu \", time, \" minuuttia, rahaa on kulunut \", value, \" euroa.\")\n"
   ]
  },
  {
   "cell_type": "markdown",
   "metadata": {},
   "source": [
    "### Tehtävä 1.7\n",
    "Jaettava on luku 145 ja jakaja on luku 6. Tee ohjelma, joka tulostaa jakolaskun osamäärän ja jakojäännöksen."
   ]
  },
  {
   "cell_type": "code",
   "execution_count": null,
   "metadata": {},
   "outputs": [],
   "source": [
    "jaettava = 145\n",
    "jakaja = 6\n",
    "print(jaettava, \" jaettuna \", jakaja, \" on \", jaettava // jakaja, \" ja jakojäännös on \", jaettava % jakaja)"
   ]
  },
  {
   "cell_type": "markdown",
   "metadata": {},
   "source": [
    "### Tehtäviä 1.8\n",
    "\n",
    "1. Luo kaksi muuttujaa: tallenna toiseen merkkijono `Hei,` ja toiseen joku nimi. Tulosta ne niin, että tuloste on esimerkiksi `Hei, Maria`\n",
    "3. Luo neljä muuttujaa, joiden tyypit ovat int, float, str ja bool. Tarkista ja tulosta tyypit `type`-funktiolla."
   ]
  },
  {
   "cell_type": "code",
   "execution_count": null,
   "metadata": {},
   "outputs": [],
   "source": [
    "tervehdys = \"Hei, \"\n",
    "nimi = \"Herbert\"\n",
    "print(tervehdys, nimi)"
   ]
  },
  {
   "cell_type": "markdown",
   "metadata": {},
   "source": [
    "### Lisätietoa muuttujien tyypeistä pythonissa\n",
    "\n",
    "Muuttujan tyypin voi selvittää funktiolla `type`:"
   ]
  },
  {
   "cell_type": "code",
   "execution_count": null,
   "metadata": {},
   "outputs": [],
   "source": [
    "# Suorita alla oleva koodi\n",
    "numero = 2\n",
    "type(numero)"
   ]
  },
  {
   "cell_type": "code",
   "execution_count": null,
   "metadata": {},
   "outputs": [],
   "source": [
    "# Suorita alla oleva koodi\n",
    "merkki = \"2\"\n",
    "type(merkki)"
   ]
  },
  {
   "cell_type": "code",
   "execution_count": null,
   "metadata": {},
   "outputs": [],
   "source": [
    "# Suorita \n",
    "liukuluku = 2.345\n",
    "type(liukuluku)"
   ]
  }
 ],
 "metadata": {
  "kernelspec": {
   "display_name": "Python 3 (ipykernel)",
   "language": "python",
   "name": "python3"
  },
  "language_info": {
   "codemirror_mode": {
    "name": "ipython",
    "version": 3
   },
   "file_extension": ".py",
   "mimetype": "text/x-python",
   "name": "python",
   "nbconvert_exporter": "python",
   "pygments_lexer": "ipython3",
   "version": "3.9.7"
  }
 },
 "nbformat": 4,
 "nbformat_minor": 4
}
