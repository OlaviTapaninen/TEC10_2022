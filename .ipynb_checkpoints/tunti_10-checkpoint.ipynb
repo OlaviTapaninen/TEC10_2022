{
 "cells": [
  {
   "cell_type": "markdown",
   "id": "895436a9",
   "metadata": {},
   "source": [
    "## Kertausta vektoreista, tehtävä 1\n",
    "\n",
    "a) Laske vektorien $\\overline{a}=2\\overline{i}+4\\overline{j}-\\overline{k}$ ja $\\overline{b}=5\\overline{i}-2\\overline{j}+2\\overline{k}$ pistetulo. ovatko vektorit kohtisuorassa?\n",
    "\n",
    "b) Määritä pisteiden $A(1,5,3)$ ja $B(4,3,9)$ välinen vektori $\\overline{AB}$. Mikä on vektorin $\\overline{AB}$ pituus?\n"
   ]
  },
  {
   "cell_type": "code",
   "execution_count": null,
   "id": "1b7418ac",
   "metadata": {},
   "outputs": [],
   "source": [
    "# a-kohta valmiit vektorit taulukkona, k on z-akselin suuntainen yksikkövektori\n",
    "a_vektori = [2, 4, -1]\n",
    "b_vektori = [5, -2, 2]\n",
    "\n"
   ]
  },
  {
   "cell_type": "code",
   "execution_count": null,
   "id": "48141720",
   "metadata": {},
   "outputs": [],
   "source": [
    "# b-kohta pisteiden koordinaatit x,y,z\n",
    "A = [1, 5, 3]\n",
    "B = [4, 3, 9]"
   ]
  },
  {
   "cell_type": "markdown",
   "id": "b70f8b83",
   "metadata": {},
   "source": [
    "## Kuvaajien piirto pythonissa\n",
    "\n",
    "Pythonissa määritellyistä funktioista voi piirtää kuvaajia matplotlib-kirjastolla. Asennuskomennot\n",
    "\n",
    "```\n",
    "python -m pip install -U pip\n",
    "python -m pip install -U matplotlib\n",
    "```"
   ]
  },
  {
   "cell_type": "code",
   "execution_count": 3,
   "id": "356c5709",
   "metadata": {},
   "outputs": [
    {
     "data": {
      "image/png": "[encoded data removed]",
      "text/plain": [
       "<Figure size 432x288 with 1 Axes>"
      ]
     },
     "metadata": {
      "needs_background": "light"
     },
     "output_type": "display_data"
    }
   ],
   "source": [
    "import matplotlib.pyplot as kuvaaja\n",
    "\n",
    "# kuvaaja = matplotlib.pyplot\n",
    "\n",
    "x_lista = []\n",
    "y_lista = []\n",
    "\n",
    "\n",
    "def f(x):\n",
    "    return x ** 2\n",
    "\n",
    "\n",
    "x = -3  # start\n",
    "while x <= 3:  # end\n",
    "    x_lista.append(x)\n",
    "    y = f(x)\n",
    "    y_lista.append(y)\n",
    "\n",
    "    x = x + 0.01\n",
    "\n",
    "# matplotlib.pyplot.plot(x_lista, y_lista)\n",
    "# matplotlib.pyplot.grid()\n",
    "# matplotlib.pyplot.show()\n",
    "kuvaaja.plot(x_lista, y_lista)\n",
    "kuvaaja.plot([0], [f(0)], marker=\"o\", markersize=5, color=\"red\")\n",
    "kuvaaja.xlabel(\"x\")\n",
    "kuvaaja.ylabel(\"y\")\n",
    "kuvaaja.grid()\n",
    "kuvaaja.show()"
   ]
  },
  {
   "cell_type": "markdown",
   "id": "3392e176",
   "metadata": {},
   "source": [
    "### Tehtävä 2\n",
    "Piirrä funktion $f(x)=2x-7$ kuvaaja. Merkitse kuvaajan funktion nollakohta."
   ]
  },
  {
   "cell_type": "code",
   "execution_count": null,
   "id": "414cd694",
   "metadata": {},
   "outputs": [],
   "source": []
  },
  {
   "cell_type": "markdown",
   "id": "80a710d9",
   "metadata": {},
   "source": [
    "### Tehtävä 2\n",
    "Auton nopeus mitattiin sekunnin välein. (t,v)-arvot on listattu taulukkomuuttujiin alla olevassa koodissa. Piirrä (t,v)-funktion kuvaaja. Laske auton kulkema matka puolisuunnikassäännöllä.\n",
    "\n",
    "| t (s) | s(m)|\n",
    "|-------|-----|\n",
    "| 0     | 0   |\n",
    "| 1     | 7.8 |\n",
    "| 2     | 15.8|\n",
    "| 3     | 23.9|\n",
    "| 4     | 32.2|\n",
    "| 5     | 41.4|\n",
    "| 6     | 52.2|\n",
    "| 7     | 65.6|\n",
    "| 8     | 76.6|"
   ]
  },
  {
   "cell_type": "code",
   "execution_count": null,
   "id": "dd70e303",
   "metadata": {},
   "outputs": [],
   "source": [
    "t_lista = [0.0, 1.0, 2.0, 3.0, 4.0, 5.0, 6.0, 7.0, 8.0]\n",
    "v_lista = [0, 7.8, 15.8, 23.9, 32.2, 41.4, 52.2, 65.6, 76.6]"
   ]
  },
  {
   "cell_type": "markdown",
   "id": "7069253e",
   "metadata": {},
   "source": [
    "## Tehtävä 3\n",
    "Etsi Eratostheneen seulalla kaikki 100 pienemmät alkuluvut"
   ]
  },
  {
   "cell_type": "code",
   "execution_count": null,
   "id": "4eff8566",
   "metadata": {},
   "outputs": [],
   "source": []
  },
  {
   "cell_type": "markdown",
   "id": "e67c48da",
   "metadata": {},
   "source": [
    "## Tehtävä 5.4\n",
    "Funktio f(x) kuvaa sähkönkulutusta Suomessa (kWh). Missä muuttuja x on kulunut aika vuosissa vuodesta 1970. Piirrä funktion kuvaaja."
   ]
  },
  {
   "cell_type": "code",
   "execution_count": null,
   "id": "0b301756",
   "metadata": {},
   "outputs": [],
   "source": [
    "import matplotlib.pyplot as kuvaaja\n",
    "\n",
    "x_lista = []\n",
    "y_lista = []\n",
    "\n",
    "def f(x):\n",
    "    return -1.3 * x ** 3 + 58.8 * x ** 2 + 1349.4 * x + 21583\n",
    "\n"
   ]
  }
 ],
 "metadata": {
  "kernelspec": {
   "display_name": "Python 3 (ipykernel)",
   "language": "python",
   "name": "python3"
  },
  "language_info": {
   "codemirror_mode": {
    "name": "ipython",
    "version": 3
   },
   "file_extension": ".py",
   "mimetype": "text/x-python",
   "name": "python",
   "nbconvert_exporter": "python",
   "pygments_lexer": "ipython3",
   "version": "3.9.7"
  }
 },
 "nbformat": 4,
 "nbformat_minor": 5
}
