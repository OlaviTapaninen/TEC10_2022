{
 "cells": [
  {
   "cell_type": "markdown",
   "source": [
    "# 2 ehtolauseet ja toisto\n",
    "\n",
    "Luvun 2 tehtävissä tutkitaan toistoa laskemalla lukujonoihin liittyviä esimerkkejä. Ehtolauseita tutkitaan esimerkiksi tehtävässä 2.8, jossa sanallinen tehtävänanto."
   ],
   "metadata": {}
  },
  {
   "cell_type": "markdown",
   "source": [
    "## Ehtolauseet"
   ],
   "metadata": {}
  },
  {
   "cell_type": "markdown",
   "source": [
    "Ohjelman täytyy joskus suorittaa komentoja vain, jos jokin ehto täyttyy. Silloin käytetään if-rakennetta."
   ],
   "metadata": {}
  },
  {
   "cell_type": "code",
   "execution_count": 1,
   "source": [
    "# Testaa ohjelman tulostetta muuttamalla muuttujan x arvoa:\r\n",
    "x = 10\r\n",
    "\r\n",
    "# Tarkistetaan, onko muuttujan x arvo 10? Jos ehto toteutuu, niin suoritetaan sisennetty lohko\r\n",
    "if x == 10:\r\n",
    "    x = x + 2\r\n",
    "    print(\"Muuttujan x arvo if-ehdon sisällä :\", x)\r\n",
    "# muuttujan x arvoksi asetaan 2-kertaa suurempi arvo\r\n",
    "x = 2 * x\r\n",
    "print(\"Muuttujan x arvo ohjelman lopussa:\", x)"
   ],
   "outputs": [
    {
     "output_type": "stream",
     "name": "stdout",
     "text": [
      "Muuttujan x arvo if-ehdon sisällä : 12\n",
      "Muuttujan x arvo ohjelman lopussa: 24\n"
     ]
    }
   ],
   "metadata": {}
  },
  {
   "cell_type": "markdown",
   "source": [
    "Ylläolevan koodia koodia vastaa \"Jos x on yhtä suuri kuin kymmenen, lisää siihen kaksi ja tulosta x. Lopuksi joka tapauksessa kerro x kahdella.\"\n",
    "\n",
    "Pythonissa if-lauseen syntaksissa on sana `if`, sen jälkeen jokin ehto ja kaksoispiste. If-lauseen sisällä olevat komennot sisennetään neljällä välilyönnillä.\n",
    "\n",
    "If-lausetta voi jatkaa elif- ja else-rakenteilla. Else ei ota mitään ehtoa, vaan sen jälkeen tuleva koodi suoritetaan, jos if:n jälkeistä ei suoriteta."
   ],
   "metadata": {}
  },
  {
   "cell_type": "code",
   "execution_count": 2,
   "source": [
    "x = 10\r\n",
    "if x > 10:\r\n",
    "    print(\"x on suurempi kuin 10\")\r\n",
    "else:\r\n",
    "    print(\"x on pienempi tai yhtä suuri kuin 10\")"
   ],
   "outputs": [
    {
     "output_type": "stream",
     "name": "stdout",
     "text": [
      "x on pienempi tai yhtä suuri kuin 10\n"
     ]
    }
   ],
   "metadata": {}
  },
  {
   "cell_type": "markdown",
   "source": [
    "If-else-rakenne on siis joko-tai-rakenne. Aina jompi kumpi suoritetaan.\n",
    "\n",
    "Elif on lyhenne sanoista else if. Se toimii samalla if-else-rakenne, mutta sitä on helpompi ketjuttaa.\n"
   ],
   "metadata": {}
  },
  {
   "cell_type": "code",
   "execution_count": 3,
   "source": [
    "x = -1\r\n",
    "\r\n",
    "if x > 10:\r\n",
    "    print(\"x on suurempi kuin kymmenen\")\r\n",
    "else:\r\n",
    "    if x < 0:\r\n",
    "        print(\"x on negatiivinen\")"
   ],
   "outputs": [
    {
     "output_type": "stream",
     "name": "stdout",
     "text": [
      "x on negatiivinen\n"
     ]
    }
   ],
   "metadata": {}
  },
  {
   "cell_type": "markdown",
   "source": [
    "tarkoittaa samaa kuin"
   ],
   "metadata": {}
  },
  {
   "cell_type": "code",
   "execution_count": 4,
   "source": [
    "if x > 10:\r\n",
    "    print(\"x on suurempi kuin kymmenen\")\r\n",
    "elif x < 0:\r\n",
    "    print(\"x on negatiivinen\")"
   ],
   "outputs": [
    {
     "output_type": "stream",
     "name": "stdout",
     "text": [
      "x on negatiivinen\n"
     ]
    }
   ],
   "metadata": {}
  },
  {
   "cell_type": "markdown",
   "source": [
    "Esimerkki if-elif-else -ketjusta. Alla oleva ohjelma laskee pisteet-muuttujan arvosta yo-arvosanan."
   ],
   "metadata": {}
  },
  {
   "cell_type": "code",
   "execution_count": 5,
   "source": [
    "pisteet = 80\r\n",
    "\r\n",
    "if pisteet < 28:\r\n",
    "    print(\"I\")\r\n",
    "elif pisteet < 40:\r\n",
    "    print(\"A\")\r\n",
    "elif pisteet < 52:\r\n",
    "    print(\"B\")\r\n",
    "elif pisteet < 64:\r\n",
    "    print(\"C\")\r\n",
    "elif pisteet < 75:\r\n",
    "    print(\"M\")\r\n",
    "elif pisteet < 90:\r\n",
    "    print(\"E\")\r\n",
    "else:\r\n",
    "    print(\"L\")"
   ],
   "outputs": [
    {
     "output_type": "stream",
     "name": "stdout",
     "text": [
      "E\n"
     ]
    }
   ],
   "metadata": {}
  },
  {
   "cell_type": "markdown",
   "source": [
    "Yhdessä if-rakenteessa on oltava yksi if, niin monta elif:iä kuin tarvitaan ja korkeintaan yksi else. Jos elseä käytetään, sen täytyy olla aina viimeisenä. Esimerkiksi seuraava ohjelma ei ole sallittu:"
   ],
   "metadata": {}
  },
  {
   "cell_type": "code",
   "execution_count": 7,
   "source": [
    "x = 0\r\n",
    "if x == 0:\r\n",
    "    print(\"x on 0\")\r\n",
    "else:\r\n",
    "    print(\"x ei ole 0\")\r\n",
    "elif x < 0:\r\n",
    "    print(\"x on negatiivinen\")"
   ],
   "outputs": [
    {
     "output_type": "error",
     "ename": "SyntaxError",
     "evalue": "invalid syntax (781671904.py, line 6)",
     "traceback": [
      "\u001b[0;36m  File \u001b[0;32m\"/var/folders/fw/_rn0vqpd5qqcdx33s5t8g45h0000gn/T/ipykernel_23935/781671904.py\"\u001b[0;36m, line \u001b[0;32m6\u001b[0m\n\u001b[0;31m    elif x < 0:\u001b[0m\n\u001b[0m    ^\u001b[0m\n\u001b[0;31mSyntaxError\u001b[0m\u001b[0;31m:\u001b[0m invalid syntax\n"
     ]
    }
   ],
   "metadata": {}
  },
  {
   "cell_type": "markdown",
   "source": [
    "Yllä olevan esimerkin oikea rakenne:"
   ],
   "metadata": {}
  },
  {
   "cell_type": "code",
   "execution_count": 8,
   "source": [
    "x = 1\r\n",
    "if x == 0:\r\n",
    "    print(\"x on 0\")\r\n",
    "elif x < 0:\r\n",
    "    print(\"x on negatiivinen\")\r\n",
    "else:\r\n",
    "    print(\"x ei ole 0\")"
   ],
   "outputs": [
    {
     "output_type": "stream",
     "name": "stdout",
     "text": [
      "x ei ole 0\n"
     ]
    }
   ],
   "metadata": {}
  },
  {
   "cell_type": "markdown",
   "source": [
    " Tee ohjelma, joka kysyy käyttäjältä luvun ja kertoo onko luku pariton vai parillinen."
   ],
   "metadata": {}
  },
  {
   "cell_type": "code",
   "execution_count": 9,
   "source": [
    "# Kirjoita ohjelma tähän\r\n",
    "luku = 5\r\n",
    "# jaollisuus tutkitaan % operaattorilla. Se kertoo jakojäännöksen\r\n",
    "if luku % 2 == 0:\r\n",
    "    print(\"Luku on parillinen\")\r\n",
    "else:\r\n",
    "    print(\"Luku on pariton\")\r\n"
   ],
   "outputs": [
    {
     "output_type": "stream",
     "name": "stdout",
     "text": [
      "Luku on pariton\n"
     ]
    }
   ],
   "metadata": {}
  },
  {
   "cell_type": "markdown",
   "source": [
    "### Tehtävä 2.1\n",
    "Toteuta lipunmyyntiohjelma, joka ottaa syötteenä iän ja tulostaa lipun hinnan. Hinnasto: \n",
    "\n",
    "\n",
    "| Ikä        | Hinta |\n",
    "|------------|-------|\n",
    "| Alle 7     | 0€    |\n",
    "| 7-17       | 1.40€ |\n",
    "| 18-69      | 2.80€ |\n",
    "| 70 tai yli | 1.40€ |\n"
   ],
   "metadata": {}
  },
  {
   "cell_type": "code",
   "execution_count": 4,
   "source": [
    "ikä = int(input(\"Syötä ikä\"))\r\n",
    "\r\n",
    "if ikä < 7:\r\n",
    "    hinta = 0\r\n",
    "elif ikä < 18:\r\n",
    "    hinta = 1.4\r\n",
    "elif ikä < 70:\r\n",
    "    hinta = 2.8\r\n",
    "else:\r\n",
    "    hinta = 1.4\r\n",
    "\r\n",
    "print(f\"Hinta henkilölle on {hinta} euroa!\")"
   ],
   "outputs": [
    {
     "output_type": "stream",
     "name": "stdout",
     "text": [
      "Hinta henkilölle on 1.4 euroa!\n"
     ]
    }
   ],
   "metadata": {}
  },
  {
   "cell_type": "markdown",
   "source": [
    "## Silmukat\n",
    "\n",
    "Silmukoilla voi toistaa komentoja. Pythonissa on kahdenlaisia silmukoita. For-silmukat ovat hyviä listan läpikäymiseen, mutta while-silmukat ovat usein parempia. Niitä käytetään, jos toistojen määrä ei ole tiedossa etukäteen.\n",
    "\n",
    "Silmukoiden jälkeen ohjelman suoritus jatkuu normaalisti rivi riviltä."
   ],
   "metadata": {}
  },
  {
   "cell_type": "code",
   "execution_count": 11,
   "source": [
    "# tuodaan math-kirjaston funktiot käyttöön\r\n",
    "import math\r\n",
    "\r\n",
    "summa = 0\r\n",
    "\r\n",
    "for i in range(6):\r\n",
    "    # sqrt on neliöjuuri\r\n",
    "    print(\"Neliöjuuri luvusta\", i, \"on\", math.sqrt(i))"
   ],
   "outputs": [
    {
     "output_type": "stream",
     "name": "stdout",
     "text": [
      "Neliöjuuri luvusta 0 on 0.0\n",
      "Neliöjuuri luvusta 1 on 1.0\n",
      "Neliöjuuri luvusta 2 on 1.4142135623730951\n",
      "Neliöjuuri luvusta 3 on 1.7320508075688772\n",
      "Neliöjuuri luvusta 4 on 2.0\n",
      "Neliöjuuri luvusta 5 on 2.23606797749979\n"
     ]
    }
   ],
   "metadata": {}
  },
  {
   "cell_type": "markdown",
   "source": [
    "Ylläolevassa esimerkissä `print(i)` ajettiin kymmenen kertaa.\n",
    "\n",
    "While-silmukka toimii melkein kuin if. Esimerkki:"
   ],
   "metadata": {}
  },
  {
   "cell_type": "code",
   "execution_count": 12,
   "source": [
    "luku = 1\r\n",
    "\r\n",
    "while luku < 100000:\r\n",
    "    print(luku)\r\n",
    "    luku = luku * 2"
   ],
   "outputs": [
    {
     "output_type": "stream",
     "name": "stdout",
     "text": [
      "1\n",
      "2\n",
      "4\n",
      "8\n",
      "16\n",
      "32\n",
      "64\n",
      "128\n",
      "256\n",
      "512\n",
      "1024\n",
      "2048\n",
      "4096\n",
      "8192\n",
      "16384\n",
      "32768\n",
      "65536\n"
     ]
    }
   ],
   "metadata": {}
  },
  {
   "cell_type": "markdown",
   "source": [
    "While-silmukassa runkoa eli silmukan sisällä olevaa koodia ajetaan niin kauan kun ehto on tosi."
   ],
   "metadata": {}
  },
  {
   "cell_type": "markdown",
   "source": [
    "## Tehtäviä:"
   ],
   "metadata": {}
  },
  {
   "cell_type": "markdown",
   "source": [
    "### Tehtävä 2.2\n",
    "Aritmeettinen lukujono alkaa 5, 8, 11... \n",
    "\n",
    "a) Luettele lukujonon 30 ensimmäistä jäsentä."
   ],
   "metadata": {}
  },
  {
   "cell_type": "code",
   "execution_count": 7,
   "source": [
    "luku = 5\r\n",
    "for i in range(30):\r\n",
    "    print(luku)\r\n",
    "    luku += 3"
   ],
   "outputs": [
    {
     "output_type": "stream",
     "name": "stdout",
     "text": [
      "5\n",
      "8\n",
      "11\n",
      "14\n",
      "17\n",
      "20\n",
      "23\n",
      "26\n",
      "29\n",
      "32\n",
      "35\n",
      "38\n",
      "41\n",
      "44\n",
      "47\n",
      "50\n",
      "53\n",
      "56\n",
      "59\n",
      "62\n",
      "65\n",
      "68\n",
      "71\n",
      "74\n",
      "77\n",
      "80\n",
      "83\n",
      "86\n",
      "89\n",
      "92\n"
     ]
    }
   ],
   "metadata": {}
  },
  {
   "cell_type": "markdown",
   "source": [
    "b) Mikä on sadan ensimmäisen jäsenen summa?"
   ],
   "metadata": {}
  },
  {
   "cell_type": "code",
   "execution_count": 8,
   "source": [
    "luku = 5\r\n",
    "for i in range(101):\r\n",
    "    luku += 3\r\n",
    "print(luku)"
   ],
   "outputs": [
    {
     "output_type": "stream",
     "name": "stdout",
     "text": [
      "308\n"
     ]
    }
   ],
   "metadata": {}
  },
  {
   "cell_type": "markdown",
   "source": [
    "c) Kuinka moni jonon jäsenistä on pienempi kuin 500?"
   ],
   "metadata": {}
  },
  {
   "cell_type": "code",
   "execution_count": 10,
   "source": [
    "luku = 5\r\n",
    "index = 0\r\n",
    "for i in range(200):\r\n",
    "    luku += 3\r\n",
    "    if luku < 500:\r\n",
    "        index += 1\r\n",
    "print(index)"
   ],
   "outputs": [
    {
     "output_type": "stream",
     "name": "stdout",
     "text": [
      "164\n"
     ]
    }
   ],
   "metadata": {}
  },
  {
   "cell_type": "markdown",
   "source": [
    "### Tehtävä 2.3\n",
    "Luettele kaikki luvut väliltä 1 - 50, mutta jos luku on jaollinen viidellä, tulosta luvun sijaan \"foo\". Jos luku on jaollinen seitsemällä, tulosta luvun sijaan \"bar\". Jos luku on jaollinen sekä viidellä että seitsemällä tulosta \"foobar\"."
   ],
   "metadata": {}
  },
  {
   "cell_type": "code",
   "execution_count": 12,
   "source": [
    "for i in range(50):\r\n",
    "    if (i % 5 == 0) & (i % 7 == 0):\r\n",
    "        print(\"foobar\")\r\n",
    "    elif i % 5 == 0:\r\n",
    "        print(\"foo\")\r\n",
    "    elif i % 7 == 0:\r\n",
    "        print(\"bar\")\r\n",
    "    else:\r\n",
    "        print(i)"
   ],
   "outputs": [
    {
     "output_type": "stream",
     "name": "stdout",
     "text": [
      "foobar\n",
      "1\n",
      "2\n",
      "3\n",
      "4\n",
      "foo\n",
      "6\n",
      "bar\n",
      "8\n",
      "9\n",
      "foo\n",
      "11\n",
      "12\n",
      "13\n",
      "bar\n",
      "foo\n",
      "16\n",
      "17\n",
      "18\n",
      "19\n",
      "foo\n",
      "bar\n",
      "22\n",
      "23\n",
      "24\n",
      "foo\n",
      "26\n",
      "27\n",
      "bar\n",
      "29\n",
      "foo\n",
      "31\n",
      "32\n",
      "33\n",
      "34\n",
      "foobar\n",
      "36\n",
      "37\n",
      "38\n",
      "39\n",
      "foo\n",
      "41\n",
      "bar\n",
      "43\n",
      "44\n",
      "foo\n",
      "46\n",
      "47\n",
      "48\n",
      "bar\n"
     ]
    }
   ],
   "metadata": {}
  },
  {
   "cell_type": "markdown",
   "source": [
    "### Tehtävä 2.4\n",
    "Laske kaikkien nelinumeroisten seitsemällä jaollisten lukujen summa."
   ],
   "metadata": {}
  },
  {
   "cell_type": "code",
   "execution_count": 2,
   "source": [
    "summa = 0\r\n",
    "i = 1000\r\n",
    "while i < 10000:\r\n",
    "    if i % 7 == 0:\r\n",
    "        summa += i\r\n",
    "    i += 1\r\n",
    "print(summa)"
   ],
   "outputs": [
    {
     "output_type": "stream",
     "name": "stdout",
     "text": [
      "7071071\n"
     ]
    }
   ],
   "metadata": {}
  },
  {
   "cell_type": "markdown",
   "source": [
    "Tehtävän voi ratkaista myös seuraavasti"
   ],
   "metadata": {}
  },
  {
   "cell_type": "code",
   "execution_count": 3,
   "source": [
    "summa = 0\r\n",
    "i = 10000\r\n",
    "while i > 1000:\r\n",
    "    if i % 7 == 0:\r\n",
    "        summa += i\r\n",
    "    i -= 1\r\n",
    "print(summa)"
   ],
   "outputs": [
    {
     "output_type": "stream",
     "name": "stdout",
     "text": [
      "7071071\n"
     ]
    }
   ],
   "metadata": {}
  },
  {
   "cell_type": "markdown",
   "source": [
    "### Tehtävä 2.5\n",
    "Tutki, kuinka monta geometrisen lukujonon 3, 9, 27, 81, ... jäsentä on laskettava yhteen, että summan arvo ylittää 9999?"
   ],
   "metadata": {}
  },
  {
   "cell_type": "code",
   "execution_count": 4,
   "source": [
    "luku = 3\r\n",
    "summa = 0\r\n",
    "potenssi = 1\r\n",
    "while summa < 9999:\r\n",
    "    summa += luku ** potenssi\r\n",
    "    potenssi += 1\r\n",
    "print(potenssi-1)"
   ],
   "outputs": [
    {
     "output_type": "stream",
     "name": "stdout",
     "text": [
      "9\n"
     ]
    }
   ],
   "metadata": {}
  },
  {
   "cell_type": "markdown",
   "source": [
    "### Tehtävä 2.6\n",
    "Ohjelma kysyy käyttäjältä suorakulmion leveyden ja korkeuden. Tämän jälkeen ohjelma kysyy haluatko laskea p=piirin  vai a=pinta-alan ? Tämän jälkeen ohjelma tulostaa tiedon näytölle."
   ],
   "metadata": {}
  },
  {
   "cell_type": "code",
   "execution_count": 9,
   "source": [
    "width = float(input(\"Suorakulmion levys:\"))\r\n",
    "height = float(input(\"Suorakulmion korkeus:\"))\r\n",
    "p_vai_a = str(input(\"Haluatko laskea piirin (p) vai pinta-alan (a):\"))\r\n",
    "if p_vai_a == 'p':\r\n",
    "    print(\"Suorakulmion piiri on\", width * 2 + height * 2)\r\n",
    "elif p_vai_a == 'a':\r\n",
    "    print(\"Suorakulmion pinta-ala on\", width * height)\r\n",
    "else:\r\n",
    "    print('Vastaukset voivat olla vain \"p\" tai \"a\"')"
   ],
   "outputs": [
    {
     "output_type": "stream",
     "name": "stdout",
     "text": [
      "Vastaukset voivat vain olla \"p\" tai \"a\"\n"
     ]
    }
   ],
   "metadata": {}
  },
  {
   "cell_type": "markdown",
   "source": [
    "### Tehtävä 2.7\n",
    "Kunnan väkiluku kasvoi 1.2%ia vuodessa. Vuonna 2015 kunnassa oli 24500 asukasta. Tutki minä vuonna kunnan asukasluku ylittää 30 000 asukkaan rajan."
   ],
   "metadata": {}
  },
  {
   "cell_type": "code",
   "execution_count": 2,
   "source": [
    "vuosi = 2015\r\n",
    "väkiluku = 24500\r\n",
    "kasvu = 1.012\r\n",
    "haluttu_väkiluku = 30000\r\n",
    "while väkiluku < haluttu_väkiluku:\r\n",
    "    väkiluku *= kasvu\r\n",
    "    vuosi += 1\r\n",
    "print(f\"Vuonna {vuosi} väkiluku ylitti {haluttu_väkiluku}\")\r\n"
   ],
   "outputs": [
    {
     "output_type": "stream",
     "name": "stdout",
     "text": [
      "Vuonna 2032 väkiluku ylitti 30000\n"
     ]
    }
   ],
   "metadata": {}
  },
  {
   "cell_type": "markdown",
   "source": [
    "### Tehtävä 2.8\n",
    "Kännykkäliittymän A kuukausimaksu on  4 euroa ja puhelumaksu on 0.09 euroa/min. Liittymässä B ei ole kuukausimaksua, mutta  puhelumaksu on 0.12 euroa/min.  Tee ohjelma, joka kysyy käyttäjältä kuukauden puheaikaa, ja ilmoittaa käyttäjälle kumpi liittymä A vai B kannattaa valita ja mitä kuukauden puhelut maksavat. "
   ],
   "metadata": {}
  },
  {
   "cell_type": "code",
   "execution_count": 4,
   "source": [
    "A_alku_maksu = 4\r\n",
    "A_puh = 0.09\r\n",
    "B_puh = 0.12\r\n",
    "aika = int(input(\"Kuukauden puheaika minuuteissa:\"))\r\n",
    "if A_alku_maksu + A_puh * aika < B_puh *aika:\r\n",
    "    print(\"Kannattaa hankkia puhelinliittymä A\")\r\n",
    "else:\r\n",
    "    print(\"Kannattaa hankkia puhelinliittymä B\")"
   ],
   "outputs": [
    {
     "output_type": "stream",
     "name": "stdout",
     "text": [
      "Kannattaa hankkia puhelinliittymä A\n"
     ]
    }
   ],
   "metadata": {}
  },
  {
   "cell_type": "markdown",
   "source": [
    "### Tehtävä 2.9\n",
    "Tarkastellaan lukujonoa $a_n =15n + 120, n=1, 2,3\\dots$  Kirjoita ohjelma, joka vastaa seuraaviin kysymyksiin:\n",
    "\n",
    "a) Ohjelma tulostaa jonon 10 ensimmäistä jäsentä.\n"
   ],
   "metadata": {}
  },
  {
   "cell_type": "code",
   "execution_count": 5,
   "source": [
    "n = 1\r\n",
    "while n < 11:\r\n",
    "    print(15 * n + 120)\r\n",
    "    n += 1"
   ],
   "outputs": [
    {
     "output_type": "stream",
     "name": "stdout",
     "text": [
      "135\n",
      "150\n",
      "165\n",
      "180\n",
      "195\n",
      "210\n",
      "225\n",
      "240\n",
      "255\n",
      "270\n"
     ]
    }
   ],
   "metadata": {}
  },
  {
   "cell_type": "markdown",
   "source": [
    "b) Onko luku  12 455 lukujonon jäsen?\n"
   ],
   "metadata": {}
  },
  {
   "cell_type": "code",
   "execution_count": 8,
   "source": [
    "n = 1\r\n",
    "\r\n",
    "while True:\r\n",
    "    a = 15 * n + 120\r\n",
    "    if a == 12455:\r\n",
    "        print(\"12455 on lukujono jäsen\")\r\n",
    "        break\r\n",
    "    elif a > 12455:\r\n",
    "        print(\"12455 ei on lukujono jäsen\")\r\n",
    "        break\r\n",
    "    n += 1"
   ],
   "outputs": [
    {
     "output_type": "stream",
     "name": "stdout",
     "text": [
      "12455 ei on lukujono jäsen\n"
     ]
    }
   ],
   "metadata": {}
  },
  {
   "cell_type": "markdown",
   "source": [
    "c)  Mistä jäsenestä alkaen lukujonon jäsenet ovat suurempia kuin  1000?"
   ],
   "metadata": {}
  },
  {
   "cell_type": "code",
   "execution_count": 9,
   "source": [
    "n = 1\r\n",
    "while True:\r\n",
    "    a = 15 * n + 120\r\n",
    "    if a > 1000:\r\n",
    "        print(f\"Lukujonon jäesenet ovat suurempia kuin 1000, kun jäsen on {n}\")\r\n",
    "        break\r\n",
    "    n += 1"
   ],
   "outputs": [
    {
     "output_type": "stream",
     "name": "stdout",
     "text": [
      "Lukujonon jäesenet ovat suurempia kuin 1000, kun jäsen on 59\n"
     ]
    }
   ],
   "metadata": {}
  },
  {
   "cell_type": "markdown",
   "source": [
    "### Tehtäviä 2.10\n",
    "\n",
    "Jaa luku 29282 alkutekijöihin"
   ],
   "metadata": {}
  },
  {
   "cell_type": "code",
   "execution_count": 1,
   "source": [
    "luku = int(29282)\r\n",
    "tehty = True\r\n",
    "while luku >= 1 and tehty == True:\r\n",
    "    for alku_tekijä in range(2, int(luku + 1)):\r\n",
    "        if luku % alku_tekijä == 0:\r\n",
    "            print(\"Alkutekijä on\", alku_tekijä)\r\n",
    "            luku = luku / alku_tekijä\r\n",
    "        elif luku == 1:\r\n",
    "            tehty = False\r\n",
    "            break"
   ],
   "outputs": [
    {
     "output_type": "stream",
     "name": "stdout",
     "text": [
      "Alkutekijä on 2\n",
      "Alkutekijä on 11\n",
      "Alkutekijä on 121\n",
      "Alkutekijä on 11\n"
     ]
    }
   ],
   "metadata": {}
  },
  {
   "cell_type": "code",
   "execution_count": null,
   "source": [],
   "outputs": [],
   "metadata": {}
  },
  {
   "cell_type": "markdown",
   "source": [
    "## Tehtävä 2.11\n",
    "\n",
    "Vuosi on karkausvuosi, jos se on jaollinen 4:llä. Kuitenkin jos vuosi on jaollinen 100:lla, se on karkausvuosi vain silloin, kun se on myös jaollinen 400:lla.\n",
    "Tee ohjelma, joka tulostaa kaikki karkausvuodet välillä 1800...2200, jokainen vuosi omalla rivillään.\n",
    "\n",
    "Tuloste alkaa siis seuraavasti:\n",
    "\n",
    "1808\n",
    "1812\n",
    "1816\n",
    "1820\n",
    "1824\n",
    "1828\n",
    "1832\n",
    "1836\n",
    "1840\n",
    "1844\n",
    "1848\n",
    "1852\n",
    "1856\n",
    "1860\n",
    "1864\n",
    "1868\n",
    "1872\n",
    "1876"
   ],
   "metadata": {}
  },
  {
   "cell_type": "code",
   "execution_count": 1,
   "source": [
    "for vuosi in range(1804, 2200, 4):\r\n",
    "    if vuosi % 400 == 0:\r\n",
    "        print(vuosi)\r\n",
    "    elif vuosi % 100 != 0:\r\n",
    "        print(vuosi) "
   ],
   "outputs": [
    {
     "output_type": "stream",
     "name": "stdout",
     "text": [
      "1804\n",
      "1808\n",
      "1812\n",
      "1816\n",
      "1820\n",
      "1824\n",
      "1828\n",
      "1832\n",
      "1836\n",
      "1840\n",
      "1844\n",
      "1848\n",
      "1852\n",
      "1856\n",
      "1860\n",
      "1864\n",
      "1868\n",
      "1872\n",
      "1876\n",
      "1880\n",
      "1884\n",
      "1888\n",
      "1892\n",
      "1896\n",
      "1904\n",
      "1908\n",
      "1912\n",
      "1916\n",
      "1920\n",
      "1924\n",
      "1928\n",
      "1932\n",
      "1936\n",
      "1940\n",
      "1944\n",
      "1948\n",
      "1952\n",
      "1956\n",
      "1960\n",
      "1964\n",
      "1968\n",
      "1972\n",
      "1976\n",
      "1980\n",
      "1984\n",
      "1988\n",
      "1992\n",
      "1996\n",
      "2000\n",
      "2004\n",
      "2008\n",
      "2012\n",
      "2016\n",
      "2020\n",
      "2024\n",
      "2028\n",
      "2032\n",
      "2036\n",
      "2040\n",
      "2044\n",
      "2048\n",
      "2052\n",
      "2056\n",
      "2060\n",
      "2064\n",
      "2068\n",
      "2072\n",
      "2076\n",
      "2080\n",
      "2084\n",
      "2088\n",
      "2092\n",
      "2096\n",
      "2104\n",
      "2108\n",
      "2112\n",
      "2116\n",
      "2120\n",
      "2124\n",
      "2128\n",
      "2132\n",
      "2136\n",
      "2140\n",
      "2144\n",
      "2148\n",
      "2152\n",
      "2156\n",
      "2160\n",
      "2164\n",
      "2168\n",
      "2172\n",
      "2176\n",
      "2180\n",
      "2184\n",
      "2188\n",
      "2192\n",
      "2196\n"
     ]
    }
   ],
   "metadata": {}
  },
  {
   "cell_type": "markdown",
   "source": [
    "## Tehtävä 2.12\n",
    "\n",
    "Kalle on vuoden vanhempi kuin Jaakko, joka taas on vuoden vanhempi kuin Aapo. Heidän ikiensä tulo on 42840. Kuinka vanha Aapo on?"
   ],
   "metadata": {}
  },
  {
   "cell_type": "code",
   "execution_count": 2,
   "source": [
    "\r\n",
    "for ikä in range(100):\r\n",
    "    Aapo = ikä\r\n",
    "    Jaakko = Aapo + 1\r\n",
    "    Kalle = Jaakko + 1\r\n",
    "    if Aapo * Jaakko * Kalle == 42840:\r\n",
    "        print(\"Aapon ikä on\", Aapo)\r\n",
    "        break\r\n"
   ],
   "outputs": [
    {
     "output_type": "stream",
     "name": "stdout",
     "text": [
      "Aapon ikä on 34\n"
     ]
    }
   ],
   "metadata": {}
  },
  {
   "cell_type": "markdown",
   "source": [
    "## Tehtävä 2.13\n",
    "\n",
    "Etsi kokonaisluku x, joka ratkaisee yhtälön $x^3 - 60x^2 + 60x = 59$.\n"
   ],
   "metadata": {}
  },
  {
   "cell_type": "code",
   "execution_count": 4,
   "source": [
    "for x in range(1, 100):\r\n",
    "    if x**3 - 60 * x**2 + 60 * x == 59:\r\n",
    "        print(f\"Konaisluku on {x}\")"
   ],
   "outputs": [
    {
     "output_type": "stream",
     "name": "stdout",
     "text": [
      "Konaisluku on 59\n"
     ]
    }
   ],
   "metadata": {}
  },
  {
   "cell_type": "markdown",
   "source": [
    "## Tehtävä 2.14\n",
    "\n",
    "Mikä on pienin positiivinen kokonaisluku, joka on jaollinen luvuilla 12, 34 ja 56?"
   ],
   "metadata": {}
  },
  {
   "cell_type": "code",
   "execution_count": 6,
   "source": [
    "for x in range(1, 10000):\r\n",
    "    if (x % 12 == 0) & (x % 34 == 0) & (x % 56 == 0):\r\n",
    "        print(\"Konaisluku on\", x)\r\n",
    "        break"
   ],
   "outputs": [
    {
     "output_type": "stream",
     "name": "stdout",
     "text": [
      "Konaisluku on 2856\n"
     ]
    }
   ],
   "metadata": {}
  },
  {
   "cell_type": "markdown",
   "source": [
    "### Tehtävä 2.15\n",
    "Tutki laskimen avulla kuinka monta geometrisen jonon $3, 9, 27, 81 ...$ jäseniä on laskettava yhteen, että summa ylittää arvon $9999$."
   ],
   "metadata": {}
  },
  {
   "cell_type": "code",
   "execution_count": null,
   "source": [
    "9"
   ],
   "outputs": [],
   "metadata": {}
  },
  {
   "cell_type": "markdown",
   "source": [
    "### Tehtävä 2.15\n",
    "Yo-tehtävä: Kahden positiivisen luvun $a$ ja $b$ geometrinen on $\\sqrt{ab}$.\n",
    "\n",
    "a) Anna esimerkki välin $2-100$ kahdesta luvusta, joille $\\sqrt{ab}$ on kokonaisluku.\n",
    "\n",
    "b) Satunnaislukugeneraattori arvoo toisistaan riippumatta kaksi lukua väliltä 1-100 niin, että jokaisen luvun todennäköisyys on $\\frac{1}{100}$. Mikä on todennäköisyys, että arvottujen lukujen geometrinen keskiarvo on kokonaisluku? Voit esittää simulointiin perustuvan ratkaisun."
   ],
   "metadata": {}
  },
  {
   "cell_type": "code",
   "execution_count": null,
   "source": [
    "import math\r\n",
    "\r\n",
    "for x in range(2, 101):\r\n",
    "    for y in range(2, 101):\r\n",
    "        if math.sqrt(x * y) == int(math.sqrt(x * y)):\r\n",
    "            print(x, y)\r\n"
   ],
   "outputs": [],
   "metadata": {}
  },
  {
   "cell_type": "code",
   "execution_count": 23,
   "source": [
    "import random\r\n",
    "\r\n",
    "todennäköisyys = 0\r\n",
    "for _ in range(1000000):\r\n",
    "    x = random.randint(1, 100)\r\n",
    "    y = random.randint(1, 100)\r\n",
    "    if (x + y) / 2 == int((x + y) / 2):\r\n",
    "        todennäköisyys += 1\r\n",
    "print(f\"Todennäköisyys on {todennäköisyys/10000}%\")\r\n",
    "\r\n",
    "#Todennäköisyys on 50%, koska jokaisella yrityksella arvaus lähenee sitä"
   ],
   "outputs": [
    {
     "output_type": "stream",
     "name": "stdout",
     "text": [
      "Todennäköisyys on 49.8968%\n"
     ]
    }
   ],
   "metadata": {}
  }
 ],
 "metadata": {
  "kernelspec": {
   "name": "python3",
   "display_name": "Python 3.9.7 64-bit"
  },
  "language_info": {
   "codemirror_mode": {
    "name": "ipython",
    "version": 3
   },
   "file_extension": ".py",
   "mimetype": "text/x-python",
   "name": "python",
   "nbconvert_exporter": "python",
   "pygments_lexer": "ipython3",
   "version": "3.9.7"
  },
  "interpreter": {
   "hash": "ac59ebe37160ed0dfa835113d9b8498d9f09ceb179beaac4002f036b9467c963"
  }
 },
 "nbformat": 4,
 "nbformat_minor": 4
}