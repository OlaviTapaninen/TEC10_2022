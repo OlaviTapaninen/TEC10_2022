{
 "cells": [
  {
   "cell_type": "markdown",
   "source": [
    "# Tunti 3 Listat ja funktiot\n",
    "\n",
    "## Listat\n",
    "\n",
    "Lista on tietorakenne, eli vähän kuin muuttujatyyppi. Sen avulla yhteen muuttujaan voidaan tallentaa monta arvoa. \n",
    "\n",
    "Lista luodaan hakasuluilla [ ]."
   ],
   "metadata": {}
  },
  {
   "cell_type": "code",
   "execution_count": null,
   "source": [
    "# Luodaan muuttuja lista, joka on tyhjä lista\r\n",
    "lista = []"
   ],
   "outputs": [],
   "metadata": {}
  },
  {
   "cell_type": "markdown",
   "source": [
    "Muuttujassa `lista` on nyt tyhjä lista.\n",
    "\n",
    "\n",
    "Jos listaan haluaa alussa tietoja, ne erotetaan pilkulla:"
   ],
   "metadata": {}
  },
  {
   "cell_type": "code",
   "execution_count": null,
   "source": [
    "a = [3, 4, 5, 6]"
   ],
   "outputs": [],
   "metadata": {}
  },
  {
   "cell_type": "markdown",
   "source": [
    "Pythonissa lista voi sisältää mitä tahansa muuttujatyyppejä, myös muita listoja. Yleensä kuitenkin yhdessä listassa kannattaa olla vain yhtä muuttujatyyppiä, eli ei esimerkiksi sekoita numeroita ja merkkijonoja.\n",
    "\n",
    "\n",
    "Listan loppuun voi lisätä alkion append-metodilla:"
   ],
   "metadata": {}
  },
  {
   "cell_type": "code",
   "execution_count": null,
   "source": [
    "lista = []\r\n",
    "lista.append(0)\r\n",
    "lista.append(1)"
   ],
   "outputs": [],
   "metadata": {}
  },
  {
   "cell_type": "markdown",
   "source": [
    "Listan alkioita voi käsitellä `[]`-merkinnällä, jossa hakasulkujen väliin tulee alkion paikka eli indeksi:"
   ],
   "metadata": {}
  },
  {
   "cell_type": "code",
   "execution_count": null,
   "source": [
    "lista = []\r\n",
    "lista.append(\"a\")\r\n",
    "lista.append(\"b\")\r\n",
    "lista.append(\"c\")\r\n",
    "\r\n",
    "print(lista[0])\r\n",
    "print(lista[1])\r\n",
    "print(lista[2])"
   ],
   "outputs": [],
   "metadata": {}
  },
  {
   "cell_type": "markdown",
   "source": [
    "Tulostaa a, b, c. Pythonissa listat alkavat nollasta, eli ensimmäisen paikka on 0.\n",
    "\n",
    "Listan voi järjestää metodilla `sort`:"
   ],
   "metadata": {}
  },
  {
   "cell_type": "code",
   "execution_count": null,
   "source": [
    "lista = [7, 8, 9, 10, 6, 4, 1, 3, 5, 2]\r\n",
    "\r\n",
    "lista.sort()\r\n",
    "\r\n",
    "print(lista)"
   ],
   "outputs": [],
   "metadata": {}
  },
  {
   "cell_type": "markdown",
   "source": [
    "Listoja käydään usein läpi `for`-silmukan avulla:"
   ],
   "metadata": {}
  },
  {
   "cell_type": "markdown",
   "source": [
    "Listaan voi kysyä monta lukua käyttäjältä, esimerkki:"
   ],
   "metadata": {}
  },
  {
   "cell_type": "code",
   "execution_count": null,
   "source": [
    "n = int(input(\"Monenko luvun keskiarvon haluat laskea? \"))\r\n",
    "\r\n",
    "lista = []\r\n",
    "\r\n",
    "for i in range(n):\r\n",
    "    luku = float(input(\"Anna luku \"))\r\n",
    "    lista.append(luku)\r\n",
    "\r\n",
    "summa = 0\r\n",
    "\r\n",
    "for luku in lista:\r\n",
    "    summa = summa + luku\r\n",
    "print(\"Keskiarvo on\", summa / n)"
   ],
   "outputs": [],
   "metadata": {}
  },
  {
   "cell_type": "markdown",
   "source": [
    "Listoja voi yhdistää `+ -`merkeillä:"
   ],
   "metadata": {}
  },
  {
   "cell_type": "code",
   "execution_count": null,
   "source": [
    "print([0, 1, 2] + [3, 4, 5])"
   ],
   "outputs": [],
   "metadata": {}
  },
  {
   "cell_type": "markdown",
   "source": [
    "Listan pituuden saa selville `len`-funktiolla:"
   ],
   "metadata": {}
  },
  {
   "cell_type": "code",
   "execution_count": null,
   "source": [
    "lista = [0, 1, 2, 3, 4, 5, 6]\r\n",
    "print(len(lista))"
   ],
   "outputs": [],
   "metadata": {}
  },
  {
   "cell_type": "markdown",
   "source": [
    "## Tehtäviä listoista\n",
    "\n",
    "### Tehtävä 3.1\n",
    "Tee ohjelma, joka etsii suurimman ja pienimmän luvun listasta:"
   ],
   "metadata": {}
  },
  {
   "cell_type": "code",
   "execution_count": 1,
   "source": [
    "# käytä valmista listaa testaukseen\r\n",
    "lista = [7, 8, 11, 10, 6, 4, 108, 3, 55, 22]\r\n",
    "\r\n",
    "pienin = lista[0]\r\n",
    "suurin = lista[0]\r\n",
    "\r\n",
    "for i in lista:\r\n",
    "    if i > suurin:\r\n",
    "        suurin = i\r\n",
    "    elif i < pienin:\r\n",
    "        pienin = i\r\n",
    "\r\n",
    "print(f\"Suurin on {suurin}\")\r\n",
    "print(f\"Pienin on {pienin}\")"
   ],
   "outputs": [
    {
     "output_type": "stream",
     "name": "stdout",
     "text": [
      "Suurin on 108\n",
      "Pienin on 3\n"
     ]
    }
   ],
   "metadata": {}
  },
  {
   "cell_type": "markdown",
   "source": [
    "###  Tehtävä 3.2\n",
    "Alla on lista, jossa on 100 kappaletta satunnaisia lukuja\n",
    "\n",
    "a) tee ohjelma joka laskee ja tulostaa listassa olevien lukujen summan.\n",
    "\n",
    "b) tee ohjelma, joka laskee ja tulostaa listan parillisten lukujen summan.\n",
    "\n",
    "c) Kirjoita ohjelma, joka tulostaa listan suurimman ja piennimmän luvun.\n",
    "\n",
    "d) Kirjoita ohjelma, joka kertoo listan kahden peräkkäisen jäsenen suurimman erotuksen.\n",
    "\n"
   ],
   "metadata": {}
  },
  {
   "cell_type": "code",
   "execution_count": 5,
   "source": [
    "# Kirjoita ohjelmasi tähän\r\n",
    "\r\n",
    "lista = [932, 168, 876, 250, 426, 231, 554, 105, 888, 684, 639, 131, 140, 382, 479, 402, 125, 264, 286, 290, 205, 944, 761, 735, 611, 646, 908, 438, 852, 937, 397, 503, 591, 736, 734, 124, 434, 952, 269, 13, 164, 161, 128, 170, 646, 200, 331, 946, 590, 973, 569, 784, 778, 358, 463, 712, 283, 357, 959, 598, 518, 853, 305, 767, 44, 135, 175, 407, 677, 749, 714, 517, 766, 346, 488, 687, 338, 375, 341, 582, 912, 389, 224, 326, 561, 106, 756, 709, 445, 106, 727, 258, 671, 48, 857, 69, 171, 840, 335, 696]\r\n",
    "\r\n",
    "summa = 0\r\n",
    "for i in lista:\r\n",
    "    summa += i\r\n",
    "print(f\"Summa on {summa}\")\r\n",
    "\r\n",
    "paril_summa = 0\r\n",
    "for i in lista:\r\n",
    "    if i % 2 == 0:\r\n",
    "        paril_summa += i\r\n",
    "print(f\"Parillinen summa on {paril_summa}\")\r\n",
    "\r\n",
    "pienin = lista[0]\r\n",
    "suurin = lista[0]\r\n",
    "\r\n",
    "for i in lista:\r\n",
    "    if i > suurin:\r\n",
    "        suurin = i\r\n",
    "    elif i < pienin:\r\n",
    "        pienin = i\r\n",
    "print(f\"Suurin arvo on {suurin} ja pienin arvo on {pienin}\")\r\n",
    "\r\n",
    "suur_erotus = 0\r\n",
    "for i, x in enumerate(lista[:-1]):\r\n",
    "    if x - lista[i+1] > suur_erotus and len(lista) != i+1:\r\n",
    "        suur_erotus = x - lista[i+1]\r\n",
    "    elif lista[i+1] - x > suur_erotus and 0 != i-1:\r\n",
    "        suur_erotus = lista[i+1] -x\r\n",
    "print(f\"Suurin erotus on {suur_erotus}\")\r\n"
   ],
   "outputs": [
    {
     "output_type": "stream",
     "name": "stdout",
     "text": [
      "Summa on 49202\n",
      "Parillinen summa on 27452\n",
      "Suurin arvo on 973 ja pienin arvo on 13\n",
      "Suurin erotus on 809\n"
     ]
    }
   ],
   "metadata": {}
  },
  {
   "cell_type": "markdown",
   "source": [
    "### Tehtävä 3.3\n",
    "Alla tilastomatikan kaavoja käsitteitä.\n",
    "\n",
    "Moodi eli tyyppiarvo on havaintoaineistossa useimmiten esiintyvä arvo.\n",
    "\n",
    "\n",
    "mediaani = Satunnaismuuttujan keskimmäinen arvo, jos arvot lueteltu peräkkäin. Mediaanin kohdalla suhteellinen summafrekvenssi ylittää 50%ia.\n",
    "\n",
    "\n",
    "Alla olevassa koodissa taulukko lkm esittää lukiolaisten päivittäin seuraamien uutissivustojen lukumäärää. Taulukossa frekvenssi on esitetty jakauma miten lukiolaiset vastasivat uutissivustojen lukumäärää selvittävään kyselyyn.\n",
    "\n",
    "Ohjelma tulostaa kuinka monta lukiolaista kyselyyn osallistui. Ohjelma tulostaa seurattujen uutissivustojen lukumäärän tyyppiarvon ja mediaanin ja kuinka moni seurasi suosituinta sivustoa.\n"
   ],
   "metadata": {}
  },
  {
   "cell_type": "code",
   "execution_count": null,
   "source": [
    "# kirjoita vastauksesi tähän\r\n",
    "\r\n",
    "#Mä luovutin\r\n",
    "\r\n",
    "lkm = [0, 1, 2, 3, 4]\r\n",
    "frekvenssi = [15, 55, 45, 30, 5]\r\n",
    "\r\n",
    "lista = []\r\n",
    "\r\n",
    "for x in lkm:\r\n",
    "    for y in frekvenssi:\r\n",
    "        lista.append(x)\r\n",
    "\r\n",
    "print(f\"vastauksien lukumäärä {len(lista)}, lukumäärän tyyppiarvo {} ja suosituinta sivustoa seurattiin\")\r\n"
   ],
   "outputs": [],
   "metadata": {}
  },
  {
   "cell_type": "markdown",
   "source": [
    "### Tehtävä 3.4\n",
    "Taulukossa on esitetty kahden koulun A ja B arvosanojen jakaumat. Ohjelma laskee arvosanojen keskiarvot molemmissa kouluissa. Ohjelma etsii koulun A parhaimman arvosanan."
   ],
   "metadata": {}
  },
  {
   "cell_type": "code",
   "execution_count": 8,
   "source": [
    "# laadi ratkaisusi tähän, voit käyttää alla olevia valmiita muuttujia\r\n",
    "arvosanat = [10, 9, 8, 7, 6, 5, 4]\r\n",
    "frekvenssi_A = [0, 12, 27, 29, 4, 9, 0]\r\n",
    "frekvenssi_B = [24, 28, 32, 16, 7, 17, 1]\r\n",
    "\r\n",
    "a_arvosanat, b_arvosanat = 0, 0\r\n",
    "\r\n",
    "for i, x in enumerate(arvosanat):\r\n",
    "    a_arvosanat += x * frekvenssi_A[i]\r\n",
    "    b_arvosanat += x * frekvenssi_B[i]\r\n",
    "\r\n",
    "a_keskiarvo = a_arvosanat / sum(frekvenssi_A)\r\n",
    "b_keskiarvo = b_arvosanat / sum(frekvenssi_B)\r\n",
    "\r\n",
    "print(f\"A:n keskiarvo on {a_keskiarvo:.2f} ja B:n keskiarvo on {b_keskiarvo:.2f}\")\r\n",
    "\r\n",
    "for i in range(len(frekvenssi_A)):\r\n",
    "    if frekvenssi_A[i] != 0:\r\n",
    "        print(f\"A:n paras arvosana on {arvosanat[i]}\")\r\n",
    "        break\r\n"
   ],
   "outputs": [
    {
     "output_type": "stream",
     "name": "stdout",
     "text": [
      "A:n keskiarvo on 7.36 ja B:n keskiarvo on 7.93\n",
      "A:n paras arvosana on 9\n"
     ]
    }
   ],
   "metadata": {}
  },
  {
   "cell_type": "markdown",
   "source": [
    "### Tehtävä 3.5\n",
    "Ohje: Laske ensin sadepäivien keskiarvo. Todennäiköisyys saadaan laskettua sadepäivien keskiarvon suhteellisena osuutena 31 vuorokaudesta."
   ],
   "metadata": {}
  },
  {
   "cell_type": "code",
   "execution_count": null,
   "source": [
    "# kirjoita ratkaisusi tähän\r\n",
    "# muuttuja sadepaivat sisältää sadepäivien määrän 6 kk:n ajanjaksolta\r\n",
    "sadepaivat = [8, 12, 9, 6, 10, 9]"
   ],
   "outputs": [],
   "metadata": {}
  },
  {
   "cell_type": "markdown",
   "source": [
    "### Funktiot Matematiikassa\n",
    "Matematiikassa funktion voi ajatella olevan operaatio, joka muokkaa lukuja. Operaation jälkeen saadaan uusi luku.\n",
    "\n",
    "$f(x) = x^2$\n",
    "\n",
    "$f(3) = 9$\n",
    "\n",
    "$g(a, b) = a \\cdot b$\n",
    "\n",
    "$g(5, 9) = 5 \\cdot 9 = 45$"
   ],
   "metadata": {}
  },
  {
   "cell_type": "markdown",
   "source": [
    "### Pythonissa\n",
    "Myös pythonissa funktio voi olla operaatio, joka muokkaa lukuja. Funktio voi olla kuitenkin paljon monimutkaisempi, koska funktion sisällä voi suorittaa mitä tahansa python-koodia. \n",
    "\n",
    "Pythonissa funktioita voi siis käyttää paljon muuhunkin kuin pelkkään lukujen käsittelyyn. Niillä voi esimerkiksi välttää saman koodin kirjoittamista moneen kertaan.\n",
    "\n",
    "Funktioita voi luoda itse ja niitä on valmiina. Esimerkiksi `print` ja `len` ovat valmiiksi määriteltyjä funktioita.\n",
    "\n",
    "Funktio voi ottaa parametreja ja palauttaa jonkun arvon. Parametreja voi olla mikä tahansa määrä. Funktio voi palauttaa arvon `return`-rakenteella, mutta tämäkään ei ole pakollista."
   ],
   "metadata": {}
  },
  {
   "cell_type": "code",
   "execution_count": null,
   "source": [
    "def f(x):\r\n",
    "    return x ** 2"
   ],
   "outputs": [],
   "metadata": {}
  },
  {
   "cell_type": "code",
   "execution_count": null,
   "source": [
    "# Funktion f(x) parametriksi asetetaan luku 4 ja tallennetaan funktion palauttama arvo muuttujaan tulos\r\n",
    "tulos = f(4)\r\n",
    "print(tulos)"
   ],
   "outputs": [],
   "metadata": {}
  },
  {
   "cell_type": "code",
   "execution_count": null,
   "source": [
    "# Funktiolla g on kaksi parametria a ja b\r\n",
    "def g(a, b):\r\n",
    "    return a * b"
   ],
   "outputs": [],
   "metadata": {}
  },
  {
   "cell_type": "code",
   "execution_count": null,
   "source": [
    "tulos = g(4, 10)\r\n",
    "print(tulos)"
   ],
   "outputs": [],
   "metadata": {}
  },
  {
   "cell_type": "code",
   "execution_count": null,
   "source": [
    "# Määritellään funktio, mutta ei vielä kutsuta sitä suoritettavaksi. Funktio2 ei palauta mitään\r\n",
    "# Funktio suoritetaan vasta kun se kutsutaan.\r\n",
    "def funktio2():\r\n",
    "    print(\"printataan funktion sisältä\")\r\n",
    "\r\n",
    "\r\n",
    "# Kutsutaan print-funktiota kaksi kertaa\r\n",
    "print(1)\r\n",
    "print(2)\r\n",
    "# Kutsutaan nyt itse määriteltyä funktiota suoritettavaksi\r\n",
    "funktio2()\r\n",
    "print(4)\r\n",
    "funktio2()"
   ],
   "outputs": [],
   "metadata": {}
  },
  {
   "cell_type": "markdown",
   "source": [
    "## Tehtäviä funktioista\n",
    "\n",
    "### Tehtävä 3.6\n",
    "Tee funktio, joka ottaa parametrikseen luvun ja palauttaa luvun itseisarvon\n",
    "\n",
    "$\\left|x\\right|=\\begin{cases}\n",
    "x&{,}\\ jos\\ x\\ge 0\\\\\n",
    "-x&{,}\\ muuten\n",
    "\\end{cases}$"
   ],
   "metadata": {}
  },
  {
   "cell_type": "code",
   "execution_count": 12,
   "source": [
    "# kirjoita koodi tähän\r\n",
    "def itseisarvo(number):\r\n",
    "    if number < 0:\r\n",
    "        number = -number\r\n",
    "    return number\r\n"
   ],
   "outputs": [
    {
     "output_type": "stream",
     "name": "stdout",
     "text": [
      "0\n"
     ]
    }
   ],
   "metadata": {}
  },
  {
   "cell_type": "markdown",
   "source": [
    "### Tehtävä 3.7\n",
    "Kirjoita funktio, joka \n",
    "\n",
    "a) ottaa parametrikseen kaksi lukua ja laskee niiden keskiarvon\n",
    "\n",
    "b) Ottaa parametrikseen listan `[2, 3, 4, 5]` ja laskee sen jäsenten keskiarvon. Listan `[2, 3, 4, 5]` alkioita ovat luvut `2, 3, 4 ja 5`. Alla esimerkki miten voit käydä läpi listan jäsenet `for`-silmukassa."
   ],
   "metadata": {}
  },
  {
   "cell_type": "code",
   "execution_count": 1,
   "source": [
    "# listan alkioiden läpikäynti\r\n",
    "lista = [2,3,4,5]\r\n",
    "for luku in lista:\r\n",
    "    print(luku)"
   ],
   "outputs": [
    {
     "output_type": "stream",
     "name": "stdout",
     "text": [
      "2\n",
      "3\n",
      "4\n",
      "5\n"
     ]
    }
   ],
   "metadata": {}
  },
  {
   "cell_type": "code",
   "execution_count": null,
   "source": [],
   "outputs": [],
   "metadata": {}
  },
  {
   "cell_type": "markdown",
   "source": [
    "### Tehtävä 3.8\n",
    "Kirjoita funktio, joka ottaa parametrikseen listan ja palauttaa listan kaikkien lukujen tulon."
   ],
   "metadata": {}
  },
  {
   "cell_type": "code",
   "execution_count": 13,
   "source": [
    "# testilista\r\n",
    "a = [3,2,4,5,6,7,8]\r\n",
    "def tulo(lista):\r\n",
    "    tulo = 1\r\n",
    "    for x in lista:\r\n",
    "        tulo *= x\r\n",
    "    return tulo\r\n",
    "\r\n",
    "print(tulo(a))"
   ],
   "outputs": [
    {
     "output_type": "stream",
     "name": "stdout",
     "text": [
      "40320\n"
     ]
    }
   ],
   "metadata": {}
  },
  {
   "cell_type": "markdown",
   "source": [
    "### Tehtävä 3.9\n",
    "Arvioi numeerinen derivaatta funktioista $f(x) = x^2$, $g(x) = 4x$ ja $s(x) = \\sqrt{x}$ haluamassasi kohdissa. Numeerisen derivaatan voi arvioida kaavalla $\\dfrac{f(x+h)-f(x)}{h}$, kun $h$ on pieni luku."
   ],
   "metadata": {}
  },
  {
   "cell_type": "markdown",
   "source": [
    "## Rekursio\n",
    "Rekursio tarkoittaa sitä, että funktio kutsuu itseään. Näin saadaan toistorakenne ilman silmukkaa.\n",
    "\n",
    "Yleinen rekursiolla määritelty lukujono on Fibonaccin lukujono. $F_1 = 1, F_2 = 1, F_n = F_{n-1} + F_{n-2}$\n",
    "\n",
    "Pythonissa tämän voi ohjelmoida rekursiivisesti:"
   ],
   "metadata": {}
  },
  {
   "cell_type": "code",
   "execution_count": null,
   "source": [
    "def fibonacci(n):\r\n",
    "    if n == 1:\r\n",
    "        return 1\r\n",
    "    if n == 2:\r\n",
    "        return 1\r\n",
    "    return fibonacci(n - 1) + fibonacci(n - 2)\r\n",
    "\r\n",
    "\r\n",
    "fibonacci(10)"
   ],
   "outputs": [],
   "metadata": {}
  },
  {
   "cell_type": "markdown",
   "source": [
    "### Tehtävä 3.10\n",
    "Ohjelmoi kaksi funktiota, joista toinen laskee kertoman rekursiivisesti ja toinen silmukalla. Kertoma on määritelty $n! = n\\cdot(n-1)!$ tai $n! = 1 \\cdot 2\\cdot \\ldots \\cdot n$"
   ],
   "metadata": {}
  },
  {
   "cell_type": "code",
   "execution_count": 14,
   "source": [
    "# koodaa tähän\r\n",
    "\r\n",
    "def recursive(n, value):\r\n",
    "    if n <= 0:\r\n",
    "        return value\r\n",
    "    else:\r\n",
    "        return recursive(n - 1, value * n)\r\n",
    "\r\n",
    "def loop(n):\r\n",
    "    value = 1\r\n",
    "    for i in range(1, n):\r\n",
    "        value *= i\r\n",
    "    return value\r\n",
    "\r\n",
    "n = int(input(\"Anna kokonaisluku, josta halutaan kertoma:\"))\r\n",
    "\r\n",
    "print(f\"recursiivinen kertoma {recursive(n, 1)} ja looppi kertoma {loop(n+1)}\")"
   ],
   "outputs": [
    {
     "output_type": "stream",
     "name": "stdout",
     "text": [
      "recursiivinen kertoma 120 ja looppi kertoma 120\n"
     ]
    }
   ],
   "metadata": {}
  },
  {
   "cell_type": "markdown",
   "source": [
    "### Tehtävä 3.11\n",
    "Lukujonon jäsenet lasketaan rekursiivisesti säännöllä\n",
    "\n",
    "$a_n=a_{n-2}a_{n-1}$ kun $n=3,4, 5...$\n",
    "\n",
    "a) Tutki, lähestyvätkö jonon jäsenet jotain tiettyä lukua, kun $a_1=\\frac{3}{2}$ ja $a_2=\\frac{2}{3}$.\n",
    "\n",
    "b)  $a_1=2$ ja $a_2=\\frac{2}{3}$."
   ],
   "metadata": {}
  },
  {
   "cell_type": "code",
   "execution_count": null,
   "source": [],
   "outputs": [],
   "metadata": {}
  }
 ],
 "metadata": {
  "kernelspec": {
   "name": "python3",
   "display_name": "Python 3.9.7 64-bit"
  },
  "language_info": {
   "codemirror_mode": {
    "name": "ipython",
    "version": 3
   },
   "file_extension": ".py",
   "mimetype": "text/x-python",
   "name": "python",
   "nbconvert_exporter": "python",
   "pygments_lexer": "ipython3",
   "version": "3.9.7"
  },
  "interpreter": {
   "hash": "ac59ebe37160ed0dfa835113d9b8498d9f09ceb179beaac4002f036b9467c963"
  }
 },
 "nbformat": 4,
 "nbformat_minor": 5
}