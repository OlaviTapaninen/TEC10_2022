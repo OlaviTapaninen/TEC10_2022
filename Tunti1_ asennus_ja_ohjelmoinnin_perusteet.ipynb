{
 "cells": [
  {
   "cell_type": "markdown",
   "source": [
    "# Lukion matemattiikkaa ja fysiikkaa ohjelmoimalla\n",
    "\n",
    "## Ohje Jupyter-notebookin asentamiseen ja suorittamiseen\n",
    "\n",
    "Alla on koodilohkoja, joita voit suorittaa artikkelia lukiessasi. Koodilohkon voit suorittaa painamalla yläpaneelista klikkaamalla \"run\" tai paina ctrl+enter, jolloin aktiivinen solu suoritetaan.\n",
    "\n",
    "![run](images/run.png)\n",
    "\n",
    "Testaa myös mitä muista yläpaneelin pikanäppäimistä tapahtuu.\n",
    "\n",
    "Asennusohje:\n",
    "1. Asenna <a href=\"https://www.anaconda.com\" target =\"_blank\"> Anaconda python</a>\n",
    "\n",
    "2. Avaa Anacondan terminaali ja kopoi repositorio:\n",
    "\n",
    "\n",
    "<a href=\"https://github.com/otaniemenlukio/TEC10_2022\" target =\"_blank\"> https://github.com/otaniemenlukio/TEC10_2022</a>\n",
    "\n",
    "3. Kirjoita terminaalin eli komentorivillä komento:  `git clone https://github.com/otaniemenlukio/TEC10_2022` ja paina `enter`\n",
    "\n",
    "4. Avaa selaimessa tiedosto (Jupyter notebook): \"Tunti_ asennus_ja_ohjelmoinnin_perusteet.ipynb\"\n",
    "\n",
    "5. Tee aina tehtävätiedostosta eriniminen kopio ja tee vastauksesi erilliseen vastaustiedostoon. Tämä harjoitellaan ensimmäisellä tunnilla.\n",
    "\n",
    "6.Komennolla `git pull` haet githubista opettajan päivitykset\n",
    "\n"
   ],
   "metadata": {}
  },
  {
   "cell_type": "markdown",
   "source": [
    "## Harjoitus 1: Tämä on Markdown solu\r\n",
    "Tähän soluun lisätään vastaukset ja esim. L'Mathilla editoidut matikan kaavat latexina.\r\n",
    "\r\n",
    "Lisää kaavava $\\frac{a}{b}$ alle: \r\n",
    "\r\n",
    "\r\n",
    "$$\r\n",
    "\\frac{a}{b}\r\n",
    "$$\r\n",
    "\r\n"
   ],
   "metadata": {}
  },
  {
   "cell_type": "code",
   "execution_count": 5,
   "source": [
    "# Tämä on koodisolu, suorita esim. ctr+enter\r\n",
    "print(\"Hello world\")"
   ],
   "outputs": [
    {
     "output_type": "stream",
     "name": "stdout",
     "text": [
      "Hello world\n"
     ]
    }
   ],
   "metadata": {}
  },
  {
   "cell_type": "markdown",
   "source": [
    "# Lukion matematiikkaa ja fysiikkaa ohjelmoimalla\n",
    "\n",
    "## Johdanto\n",
    "\n",
    "- Luvuissa 1 -5 on esitetty lukion pitkän matematiikan tehtävien ratkaisussa tarvittavat python-ohjelmoinnin rakenteet. Lukujen 1 - 5 aineistossa on valmiiksi ohjelmoituja esimerkkilaskuja. \n",
    "- Luvussa 6 on lisää valmiiksi ohjelmituja laskuesimerkkejä.\n",
    "- Tehtävät on valittu pääosin lukion kurssin MAA11 (OPS2019) sisällöistä.\n",
    "- Materiaali on tarkoitettu itseopiskeluun ja ohjelmointitaitojen ylläpitoon ja kertaukseen.\n",
    "- Lue teoria ja ohjelmaesimerkit sekä koodin keskellä olevat kommentit \n",
    "- Tämän materiaalin esimerkit on kirjoitettu Jupyterillä, mutta tehtäviä voi tehdä millä tahansa ohjelmointiympäristöllä. \n",
    "\n",
    "## 1 Python-ohjelmoinnin perusteet\n",
    "- tulostaminen print-komennolla ja ilman print-komentoa Jupyter Notebookissa.\n",
    "- muuttujat, muuttujien tyypit ja muunnokset tyyppien välillä.\n",
    "- peruslaskutoimitukset\n",
    "\n",
    "\n"
   ],
   "metadata": {}
  },
  {
   "cell_type": "markdown",
   "source": [
    "### Tulostaminen"
   ],
   "metadata": {}
  },
  {
   "cell_type": "code",
   "execution_count": 6,
   "source": [
    "# Tämä rivi on kommentti. Ohjelmointi alkaa tästä, kirjoita koodi alle.\r\n",
    "print(10 + 10)"
   ],
   "outputs": [
    {
     "output_type": "stream",
     "name": "stdout",
     "text": [
      "20\n"
     ]
    }
   ],
   "metadata": {}
  },
  {
   "cell_type": "markdown",
   "source": [
    "### Muuttujat\n",
    "\n",
    "Muuttujat on ohjelmointikielissä tapa tallentaa tietoa tietokoneen muistiin. Jokaisella muuttujalla on pythonissa nimi, tyyppi ja arvo. Pythonissa ei voi määrittää muuttujan tyyppiä suoraan, vaan se tapahtuu antamalla sille tietyn tyyppinen arvo.\n",
    "\n",
    "Pythonissa on 4 alkeellista tietotyyppiä:\n",
    "1. **int**eger\n",
    "Kokonaisluku\n",
    "2. **float**\n",
    "Liukuluku eli desimaaliluku\n",
    "3. **str**ing\n",
    "Merkkijono\n",
    "4. **bool**ean\n",
    "Totuusarvo. Ainoat mahdolliset arvot ovat `True` ja `False`.\n",
    "Minkä tahansa nollasta poikkeavan luvun voi muuntaa `True`:ksi ja nollan `False`ksi.\n",
    "Tyhjä merkkijono `\"\"` muuntuu myös `False`:ksi.\n",
    "\n",
    "Muut tyypit on yleensä määritelty näillä neljällä alkeellisella tyypillä.\n",
    "\n",
    "Tyyppien lyhenteet on tummennettu.\n",
    "Lyhenteiden nimiset funktiot ottavat parametrikseen arvon ja yrittävät palauttaa funktiota vastaavan arvon ja tyypin.\n",
    "\n",
    "\n"
   ],
   "metadata": {}
  },
  {
   "cell_type": "code",
   "execution_count": 12,
   "source": [
    "x = 2"
   ],
   "outputs": [],
   "metadata": {}
  },
  {
   "cell_type": "code",
   "execution_count": 8,
   "source": [
    "print(x)"
   ],
   "outputs": [
    {
     "output_type": "stream",
     "name": "stdout",
     "text": [
      "2\n"
     ]
    }
   ],
   "metadata": {}
  },
  {
   "cell_type": "markdown",
   "source": [
    "### Lisää muuttujista\n",
    "\n",
    "Muuttujan nimi voi olla melkein mikä tahansa merkki- tai kirjainyhdistelmä, mutta ota huomioon seuraavat asiat:\n",
    "\n",
    "1. Nimi ei saa alkaa numerolla\n",
    "2. Nimessä ei saa olla välilyöntejä\n",
    "3. Ainoa erikoismerkki, jota saa käyttää nimissä, on alaviiva `_`\n",
    "4. Kirjainkoolla on väliä. `Kameli` ja `kameli` ovat eri muuttujia\n",
    "5. Yritä tehdä muuttujien nimistä järkeviä ja käyttöä vastaavia.\n",
    "Esimerkiksi `username` on paljon järkevämpi nimi muuttujalle kuin `asdf`\n",
    "\n",
    "\n",
    "Muuttujan voi luoda käyttämällä merkintää `muuttuja = \"arvo\"`, jossa yhtäsuuruusmerkin vasemmalla puolella on muuttujan nimi ja oikealla siihen tallennettava arvo. Esimerkiksi allaoleva ohjelma tulostaa `Hello world!`:"
   ],
   "metadata": {}
  },
  {
   "cell_type": "code",
   "execution_count": 13,
   "source": [
    "eka = \"Hello\"\r\n",
    "toka = \"world!\"\r\n",
    "\r\n",
    "\r\n",
    "print(eka,toka)"
   ],
   "outputs": [
    {
     "output_type": "stream",
     "name": "stdout",
     "text": [
      "Hello world!\n"
     ]
    }
   ],
   "metadata": {}
  },
  {
   "cell_type": "markdown",
   "source": [
    "### Operaattorit ja vertailu\n",
    "\n",
    "Pythonissa voidaan käyttää matemaattisia operaattoreita lukujen käsittelyyn. "
   ],
   "metadata": {}
  },
  {
   "cell_type": "markdown",
   "source": [
    "Esimerkkejä peruslaskutoimituksista"
   ],
   "metadata": {}
  },
  {
   "cell_type": "code",
   "execution_count": 14,
   "source": [
    "# Kirjoita esimerkkejä tähän\r\n",
    "print(3 + 3)\r\n",
    "print(2 - 5)\r\n",
    "print(6 / 4)\r\n",
    "print(2 * 7)\r\n",
    "# Potenssi\r\n",
    "print(2**3)\r\n"
   ],
   "outputs": [
    {
     "output_type": "stream",
     "name": "stdout",
     "text": [
      "6\n",
      "-3\n",
      "1.5\n",
      "14\n",
      "8\n"
     ]
    }
   ],
   "metadata": {}
  },
  {
   "cell_type": "markdown",
   "source": [
    "Jos int ja float ovat samassa laskussa, tulos on tyyppiä float"
   ],
   "metadata": {}
  },
  {
   "cell_type": "code",
   "execution_count": 15,
   "source": [
    "10 + 0.2"
   ],
   "outputs": [
    {
     "output_type": "execute_result",
     "data": {
      "text/plain": [
       "10.2"
      ]
     },
     "metadata": {},
     "execution_count": 15
    }
   ],
   "metadata": {}
  },
  {
   "cell_type": "markdown",
   "source": [
    "Normaali jakolasku: antaa luvun aina float-muodossa"
   ],
   "metadata": {}
  },
  {
   "cell_type": "code",
   "execution_count": 17,
   "source": [
    "10/5"
   ],
   "outputs": [
    {
     "output_type": "execute_result",
     "data": {
      "text/plain": [
       "2.0"
      ]
     },
     "metadata": {},
     "execution_count": 17
    }
   ],
   "metadata": {}
  },
  {
   "cell_type": "markdown",
   "source": [
    "Alaspäin pyöristävä jakolasku: antaa luvun aina int-muodossa"
   ],
   "metadata": {}
  },
  {
   "cell_type": "code",
   "execution_count": 5,
   "source": [
    "11//5"
   ],
   "outputs": [
    {
     "output_type": "execute_result",
     "data": {
      "text/plain": [
       "2"
      ]
     },
     "metadata": {},
     "execution_count": 5
    }
   ],
   "metadata": {}
  },
  {
   "cell_type": "markdown",
   "source": [
    "Potenssi"
   ],
   "metadata": {}
  },
  {
   "cell_type": "code",
   "execution_count": 6,
   "source": [
    "# Neliöjuuri\r\n",
    "2**0.5"
   ],
   "outputs": [
    {
     "output_type": "execute_result",
     "data": {
      "text/plain": [
       "1.4142135623730951"
      ]
     },
     "metadata": {},
     "execution_count": 6
    }
   ],
   "metadata": {}
  },
  {
   "cell_type": "markdown",
   "source": [
    "Jakojäännös"
   ],
   "metadata": {}
  },
  {
   "cell_type": "code",
   "execution_count": 39,
   "source": [
    "13 % 2"
   ],
   "outputs": [
    {
     "output_type": "execute_result",
     "data": {
      "text/plain": [
       "1"
      ]
     },
     "metadata": {},
     "execution_count": 39
    }
   ],
   "metadata": {}
  },
  {
   "cell_type": "markdown",
   "source": [
    "\n",
    "Laskujärjestystä voi tarvittaessa muuttaa suluilla: `(4+10)*4` on 56.\n",
    "\n",
    "Usein on tarpeellista muuttaa muuttujan arvoa, esimerkiksi lisäämällä siihen jotain:\n",
    "\n"
   ],
   "metadata": {}
  },
  {
   "cell_type": "code",
   "execution_count": 19,
   "source": [
    "print((3 + 4)*2)\r\n",
    "print(0.1 + 0.2)"
   ],
   "outputs": [
    {
     "output_type": "stream",
     "name": "stdout",
     "text": [
      "14\n",
      "0.30000000000000004\n"
     ]
    }
   ],
   "metadata": {}
  },
  {
   "cell_type": "code",
   "execution_count": 4,
   "source": [
    "# Matematiikan vakioita ja funktioita\r\n",
    "# Tuodaan kirjasto käyttöön\r\n",
    "import math\r\n",
    "print(math.pi)\r\n",
    "\r\n",
    "# Neperin luku\r\n",
    "print(math.e)\r\n",
    "\r\n",
    "# Neliöjuuri\r\n",
    "print('Luvun 144 neliöjuuri:', math.sqrt(144))\r\n",
    "\r\n",
    "# trigonometriset funktiot on määritelty radiaaneissa\r\n",
    "print(math.sin(math.pi/2))\r\n",
    "\r\n",
    "# tulostetaan yhtälön sin(x)= 0.6 ratkaisu eli x=arcsin(0.6)\r\n",
    "print('x=',math.asin(0.6)*180/math.pi)\r\n",
    "# käänteisfunktiot ovat muotoa: atan(x), asin(x) ja acos(x)\r\n",
    "\r\n",
    "# Määritellään kulma asteina ja muutetaan se radiaaneiksi ja lasketaan kulman kosini\r\n",
    "angle_degrees = 45\r\n",
    "angle_radians = 45*math.pi/180\r\n",
    "print(math.cos(angle_radians))\r\n"
   ],
   "outputs": [
    {
     "output_type": "stream",
     "name": "stdout",
     "text": [
      "3.141592653589793\n",
      "2.718281828459045\n",
      "Luvun 144 neliöjuuri: 12.0\n",
      "1.0\n",
      "x= 36.86989764584402\n",
      "0.7071067811865476\n"
     ]
    }
   ],
   "metadata": {}
  },
  {
   "cell_type": "code",
   "execution_count": 27,
   "source": [],
   "outputs": [],
   "metadata": {}
  },
  {
   "cell_type": "code",
   "execution_count": 20,
   "source": [
    "x"
   ],
   "outputs": [
    {
     "output_type": "execute_result",
     "data": {
      "text/plain": [
       "2"
      ]
     },
     "metadata": {},
     "execution_count": 20
    }
   ],
   "metadata": {}
  },
  {
   "cell_type": "markdown",
   "source": [
    "### Tehtävä 1.1\n",
    "\n",
    "Tee ohjelma, jossa määritellään kolme muuttujaa, joiden arvot ovat lukuja. Ohjelma laskee ja tulostaa lukujen summan ja keskiarvon.\n"
   ],
   "metadata": {}
  },
  {
   "cell_type": "code",
   "execution_count": 48,
   "source": [
    "muuttuja_1 = 10\r\n",
    "muuttuja_2 = 8\r\n",
    "muuttuja_3 = 9\r\n",
    "\r\n",
    "summa = muuttuja_1 + muuttuja_2 + muuttuja_3\r\n",
    "\r\n",
    "print(summa)\r\n",
    "\r\n",
    "keskiarvo = summa/3\r\n",
    "\r\n",
    "print(keskiarvo)"
   ],
   "outputs": [
    {
     "output_type": "stream",
     "name": "stdout",
     "text": [
      "27\n",
      "9.0\n"
     ]
    }
   ],
   "metadata": {}
  },
  {
   "cell_type": "markdown",
   "source": [
    "### Tehtävä 1.2\n",
    "Tee ohjelma, jossa määritellään pallon säde, ja ohjelma tulostaa pallon tilavuuden ja pinta-alan. Pallon pinta-ala ja tilavuus lasketaan kaavoilla\n",
    "\n",
    "$$\n",
    "A=4\\pi\\cdot r^2 \\ \\text{ja} \\ V=\\frac{4}{3}\\pi r^3 \n",
    "$$"
   ],
   "metadata": {}
  },
  {
   "cell_type": "code",
   "execution_count": 13,
   "source": [
    "import math\r\n",
    "\r\n",
    "r = 10.0\r\n",
    "\r\n",
    "A = 4 * math.pi * r ** 2\r\n",
    "\r\n",
    "V = 4/3 * math.pi * r**3\r\n",
    "\r\n",
    "print(\"Pinta-ala:\", A)\r\n",
    "print(\"Tilavuus:\", V)"
   ],
   "outputs": [
    {
     "output_type": "stream",
     "name": "stdout",
     "text": [
      "Pinta-ala: 1256.6370614359173\n",
      "Tilavuus: 4188.790204786391\n"
     ]
    }
   ],
   "metadata": {}
  },
  {
   "cell_type": "markdown",
   "source": [
    "## Tehtävä 1.3\n",
    "Tee ohjelma, joka laskee tunnetusta pallon pinta-alasta pallon säteen ja pallon tilavuuden."
   ],
   "metadata": {}
  },
  {
   "cell_type": "code",
   "execution_count": 5,
   "source": [
    "import math\r\n",
    "pinta_ala = 1256.6370614359173\r\n",
    "#pinta_ala = input(\"Anna pinta-ala\")\r\n",
    "pinta_ala = float(pinta_ala)\r\n",
    "\r\n",
    "r = (pinta_ala / (4 * math.pi)) ** 0.5\r\n",
    "V = 4/3 * math.pi * r**3\r\n",
    "\r\n",
    "print(\"säde:\", r)\r\n",
    "print(\"Tilavuus:\", V)"
   ],
   "outputs": [
    {
     "output_type": "stream",
     "name": "stdout",
     "text": [
      "säde: 10.0\n",
      "Tilavuus: 4188.790204786391\n"
     ]
    }
   ],
   "metadata": {}
  },
  {
   "cell_type": "markdown",
   "source": [
    "### Tehtävä 1.4\n",
    "Suorakulmion sivujen pituus on 50 cm ja 30 cm. Tee ohjelma, joka tulostaa suorakulmion piirin ja pinta-alan."
   ],
   "metadata": {}
  },
  {
   "cell_type": "code",
   "execution_count": 6,
   "source": [
    "# Kirjoita koodi tähän\r\n",
    "kanta = 50\r\n",
    "korkeus = 30\r\n",
    "print(f\"suorakulmon piiri on: {kanta * 2 + korkeus * 2}\")\r\n",
    "print(\"suorakulmion pinta-ala on\", kanta*korkeus, \"cm^2\")"
   ],
   "outputs": [
    {
     "output_type": "stream",
     "name": "stdout",
     "text": [
      "suorakulmon piiri on: 160\n",
      "suorakulmion pinta-ala on 1500 cm^2\n"
     ]
    }
   ],
   "metadata": {}
  },
  {
   "cell_type": "markdown",
   "source": [
    "### Tehtävä 1.5\n",
    "Kuution tilavuus on 500 litraa. Mikä on tahkojen yhteispinta-ala? $V=a^3$, eli\n",
    "$a = \\sqrt[3]{V}$= $V^{1/3}$"
   ],
   "metadata": {}
  },
  {
   "cell_type": "code",
   "execution_count": 25,
   "source": [
    "# Tuodaan kirjasto käyttöön\r\n",
    "import math\r\n",
    "\r\n",
    "V = 500 # yksikkö on l eli dm^3\r\n",
    "\r\n",
    "# Lasketaan kuution sivun pituus a\r\n",
    "a = V ** (1/3)\r\n",
    "print(\"Sivun pituus:\", a)\r\n",
    "# Lasketaan pinta-ala\r\n",
    "A = 6 * a ** 2\r\n",
    "print(\"Tahkojen pinta-ala\", A)"
   ],
   "outputs": [
    {
     "output_type": "stream",
     "name": "stdout",
     "text": [
      "Sivun pituus: 7.937005259840997\n",
      "Tahkojen pinta-ala 377.9763149684619\n"
     ]
    }
   ],
   "metadata": {}
  },
  {
   "cell_type": "markdown",
   "source": [
    "### Tehtävä 1.6\n",
    "Puhelinliittymän A kuukausimaksu on 6 euroa ja minuuttitaksa 0.15 eur/min. Tee ohjelma, jonka avulla voi tutkia\n",
    "puhelinlaskua erilaisilla puheajoilla. Puhelinliittymän B kiinteä kuukausimaksu on 15 euroa. Etsi kokeilemalla eli haarukoi kuinka paljon pitää puhua, että liittymä B tulee halvemmaksi?"
   ],
   "metadata": {}
  },
  {
   "cell_type": "code",
   "execution_count": 1,
   "source": [
    "# Kirjoita vastaus tähän\r\n",
    "# Syötä aika minuutteina, voit vaihtaa muuttujan t arvoa\r\n",
    "time = 60\r\n",
    "value = 6 + 0.15 * time\r\n",
    "print(\"Kun on puhuttu \", time, \" minuuttia, rahaa on kulunut \", value, \" euroa.\")\r\n"
   ],
   "outputs": [
    {
     "output_type": "stream",
     "name": "stdout",
     "text": [
      "Kun on puhuttu  60  minuuttia, rahaa on kulunut  15.0  euroa.\n"
     ]
    }
   ],
   "metadata": {}
  },
  {
   "cell_type": "markdown",
   "source": [
    "### Tehtävä 1.7\n",
    "Jaettava on luku 145 ja jakaja on luku 6. Tee ohjelma, joka tulostaa jakolaskun osamäärän ja jakojäännöksen."
   ],
   "metadata": {}
  },
  {
   "cell_type": "code",
   "execution_count": 5,
   "source": [
    "jaettava = 145\r\n",
    "jakaja = 6\r\n",
    "print(jaettava, \" jaettuna \", jakaja, \" on \", jaettava // jakaja, \" ja jakojäännös on \", jaettava % jakaja)"
   ],
   "outputs": [
    {
     "output_type": "stream",
     "name": "stdout",
     "text": [
      "145  jaettuna  6  on  24  ja jakojäännös on  1\n"
     ]
    }
   ],
   "metadata": {}
  },
  {
   "cell_type": "markdown",
   "source": [
    "### Tehtäviä 1.8\n",
    "\n",
    "1. Luo kaksi muuttujaa: tallenna toiseen merkkijono `Hei,` ja toiseen joku nimi. Tulosta ne niin, että tuloste on esimerkiksi `Hei, Maria`\n",
    "3. Luo neljä muuttujaa, joiden tyypit ovat int, float, str ja bool. Tarkista ja tulosta tyypit `type`-funktiolla."
   ],
   "metadata": {}
  },
  {
   "cell_type": "code",
   "execution_count": 11,
   "source": [
    "tervehdys = \"Hei, \"\r\n",
    "nimi = \"Herbert\"\r\n",
    "print(tervehdys, nimi)\r\n",
    "\r\n",
    "kokonaisluku = 5\r\n",
    "liukuluku = 5.0\r\n",
    "merkki_jono = '5'\r\n",
    "totuusarvo = True\r\n",
    "type(kokonaisluku), type(liukuluku), type(merkki_jono), type(totuusarvo)"
   ],
   "outputs": [
    {
     "output_type": "stream",
     "name": "stdout",
     "text": [
      "Hei,  Herbert\n"
     ]
    },
    {
     "output_type": "execute_result",
     "data": {
      "text/plain": [
       "(int, float, str, bool)"
      ]
     },
     "metadata": {},
     "execution_count": 11
    }
   ],
   "metadata": {}
  },
  {
   "cell_type": "markdown",
   "source": [
    "### Lisätietoa muuttujien tyypeistä pythonissa\n",
    "\n",
    "Muuttujan tyypin voi selvittää funktiolla `type`:"
   ],
   "metadata": {}
  },
  {
   "cell_type": "code",
   "execution_count": 22,
   "source": [
    "# Suorita alla oleva koodi\r\n",
    "numero = 2\r\n",
    "type(numero)"
   ],
   "outputs": [
    {
     "output_type": "execute_result",
     "data": {
      "text/plain": [
       "int"
      ]
     },
     "metadata": {},
     "execution_count": 22
    }
   ],
   "metadata": {}
  },
  {
   "cell_type": "code",
   "execution_count": 21,
   "source": [
    "# Suorita alla oleva koodi\r\n",
    "merkki = \"2\"\r\n",
    "type(merkki)"
   ],
   "outputs": [
    {
     "output_type": "execute_result",
     "data": {
      "text/plain": [
       "str"
      ]
     },
     "metadata": {},
     "execution_count": 21
    }
   ],
   "metadata": {}
  },
  {
   "cell_type": "code",
   "execution_count": 22,
   "source": [
    "# Suorita \r\n",
    "liukuluku = 2.345\r\n",
    "type(liukuluku)"
   ],
   "outputs": [
    {
     "output_type": "execute_result",
     "data": {
      "text/plain": [
       "float"
      ]
     },
     "metadata": {},
     "execution_count": 22
    }
   ],
   "metadata": {}
  }
 ],
 "metadata": {
  "kernelspec": {
   "name": "python3",
   "display_name": "Python 3.9.7 64-bit"
  },
  "language_info": {
   "codemirror_mode": {
    "name": "ipython",
    "version": 3
   },
   "file_extension": ".py",
   "mimetype": "text/x-python",
   "name": "python",
   "nbconvert_exporter": "python",
   "pygments_lexer": "ipython3",
   "version": "3.9.7"
  },
  "interpreter": {
   "hash": "ac59ebe37160ed0dfa835113d9b8498d9f09ceb179beaac4002f036b9467c963"
  }
 },
 "nbformat": 4,
 "nbformat_minor": 4
}